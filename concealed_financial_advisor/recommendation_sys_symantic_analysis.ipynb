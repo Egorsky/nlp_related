{
 "cells": [
  {
   "cell_type": "code",
   "execution_count": 1,
   "id": "db1e33ec",
   "metadata": {},
   "outputs": [],
   "source": [
    "import os\n",
    "import pandas as pd\n",
    "import numpy as np\n",
    "import matplotlib.pyplot as plt\n",
    "import seaborn as sns\n",
    "from sklearn.feature_extraction.text import TfidfVectorizer\n",
    "from sklearn.metrics.pairwise import linear_kernel\n",
    "from tqdm import tqdm_notebook as tqdm\n",
    "\n",
    "%matplotlib inline"
   ]
  },
  {
   "cell_type": "code",
   "execution_count": 232,
   "id": "fa4c1049",
   "metadata": {},
   "outputs": [],
   "source": [
    "df_history =  pd.read_csv('article_views_synthetic_train.csv')\n",
    "df_art = pd.read_csv('article_ids.csv')\n",
    "df_test = pd.read_csv('article_views_synthetic_test.csv')"
   ]
  },
  {
   "cell_type": "markdown",
   "id": "a2f84a1d",
   "metadata": {},
   "source": [
    "# EDA\n",
    "\n",
    "Let's take a look at both datasets and its basic parameteres"
   ]
  },
  {
   "cell_type": "code",
   "execution_count": 49,
   "id": "ccb1555c",
   "metadata": {},
   "outputs": [
    {
     "data": {
      "text/html": [
       "<div>\n",
       "<style scoped>\n",
       "    .dataframe tbody tr th:only-of-type {\n",
       "        vertical-align: middle;\n",
       "    }\n",
       "\n",
       "    .dataframe tbody tr th {\n",
       "        vertical-align: top;\n",
       "    }\n",
       "\n",
       "    .dataframe thead th {\n",
       "        text-align: right;\n",
       "    }\n",
       "</style>\n",
       "<table border=\"1\" class=\"dataframe\">\n",
       "  <thead>\n",
       "    <tr style=\"text-align: right;\">\n",
       "      <th></th>\n",
       "      <th>user_id</th>\n",
       "      <th>article_id</th>\n",
       "    </tr>\n",
       "  </thead>\n",
       "  <tbody>\n",
       "    <tr>\n",
       "      <th>0</th>\n",
       "      <td>6287</td>\n",
       "      <td>1</td>\n",
       "    </tr>\n",
       "    <tr>\n",
       "      <th>1</th>\n",
       "      <td>8095</td>\n",
       "      <td>3</td>\n",
       "    </tr>\n",
       "    <tr>\n",
       "      <th>2</th>\n",
       "      <td>2781</td>\n",
       "      <td>3</td>\n",
       "    </tr>\n",
       "    <tr>\n",
       "      <th>3</th>\n",
       "      <td>5624</td>\n",
       "      <td>3</td>\n",
       "    </tr>\n",
       "    <tr>\n",
       "      <th>4</th>\n",
       "      <td>372</td>\n",
       "      <td>3</td>\n",
       "    </tr>\n",
       "  </tbody>\n",
       "</table>\n",
       "</div>"
      ],
      "text/plain": [
       "   user_id  article_id\n",
       "0     6287           1\n",
       "1     8095           3\n",
       "2     2781           3\n",
       "3     5624           3\n",
       "4      372           3"
      ]
     },
     "execution_count": 49,
     "metadata": {},
     "output_type": "execute_result"
    }
   ],
   "source": [
    "df_history.head()"
   ]
  },
  {
   "cell_type": "markdown",
   "id": "577e8204",
   "metadata": {},
   "source": [
    "The length of the dataframe after merge with the article should remain the same."
   ]
  },
  {
   "cell_type": "code",
   "execution_count": 50,
   "id": "bbe35c7f",
   "metadata": {},
   "outputs": [
    {
     "data": {
      "text/plain": [
       "(165746, 2)"
      ]
     },
     "execution_count": 50,
     "metadata": {},
     "output_type": "execute_result"
    }
   ],
   "source": [
    "df_history.shape"
   ]
  },
  {
   "cell_type": "code",
   "execution_count": 51,
   "id": "22037f6e",
   "metadata": {},
   "outputs": [
    {
     "data": {
      "text/html": [
       "<div>\n",
       "<style scoped>\n",
       "    .dataframe tbody tr th:only-of-type {\n",
       "        vertical-align: middle;\n",
       "    }\n",
       "\n",
       "    .dataframe tbody tr th {\n",
       "        vertical-align: top;\n",
       "    }\n",
       "\n",
       "    .dataframe thead th {\n",
       "        text-align: right;\n",
       "    }\n",
       "</style>\n",
       "<table border=\"1\" class=\"dataframe\">\n",
       "  <thead>\n",
       "    <tr style=\"text-align: right;\">\n",
       "      <th></th>\n",
       "      <th>title</th>\n",
       "      <th>article_id</th>\n",
       "    </tr>\n",
       "  </thead>\n",
       "  <tbody>\n",
       "    <tr>\n",
       "      <th>0</th>\n",
       "      <td>another-record-year-for-inheritance-tax</td>\n",
       "      <td>286</td>\n",
       "    </tr>\n",
       "    <tr>\n",
       "      <th>1</th>\n",
       "      <td>save-000s-by-sending-money-abroad-online</td>\n",
       "      <td>1799</td>\n",
       "    </tr>\n",
       "    <tr>\n",
       "      <th>2</th>\n",
       "      <td>the-most-popular-isa-funds-in-2019</td>\n",
       "      <td>2016</td>\n",
       "    </tr>\n",
       "    <tr>\n",
       "      <th>3</th>\n",
       "      <td>understanding-mergers-and-acquisitions-why-com...</td>\n",
       "      <td>2228</td>\n",
       "    </tr>\n",
       "    <tr>\n",
       "      <th>4</th>\n",
       "      <td>mining-stocks-hit-as-copper-and-coal-fall-to-f...</td>\n",
       "      <td>1392</td>\n",
       "    </tr>\n",
       "  </tbody>\n",
       "</table>\n",
       "</div>"
      ],
      "text/plain": [
       "                                               title  article_id\n",
       "0            another-record-year-for-inheritance-tax         286\n",
       "1           save-000s-by-sending-money-abroad-online        1799\n",
       "2                 the-most-popular-isa-funds-in-2019        2016\n",
       "3  understanding-mergers-and-acquisitions-why-com...        2228\n",
       "4  mining-stocks-hit-as-copper-and-coal-fall-to-f...        1392"
      ]
     },
     "execution_count": 51,
     "metadata": {},
     "output_type": "execute_result"
    }
   ],
   "source": [
    "df_art.head()"
   ]
  },
  {
   "cell_type": "markdown",
   "id": "ab5e24a9",
   "metadata": {},
   "source": [
    "Creating \"final\" dataset to further exploration"
   ]
  },
  {
   "cell_type": "code",
   "execution_count": 52,
   "id": "4a0a06c1",
   "metadata": {},
   "outputs": [],
   "source": [
    "df = pd.merge(df_history, df_art, how='inner', on='article_id')"
   ]
  },
  {
   "cell_type": "code",
   "execution_count": 53,
   "id": "7b665bcb",
   "metadata": {},
   "outputs": [
    {
     "data": {
      "text/html": [
       "<div>\n",
       "<style scoped>\n",
       "    .dataframe tbody tr th:only-of-type {\n",
       "        vertical-align: middle;\n",
       "    }\n",
       "\n",
       "    .dataframe tbody tr th {\n",
       "        vertical-align: top;\n",
       "    }\n",
       "\n",
       "    .dataframe thead th {\n",
       "        text-align: right;\n",
       "    }\n",
       "</style>\n",
       "<table border=\"1\" class=\"dataframe\">\n",
       "  <thead>\n",
       "    <tr style=\"text-align: right;\">\n",
       "      <th></th>\n",
       "      <th>user_id</th>\n",
       "      <th>article_id</th>\n",
       "      <th>title</th>\n",
       "    </tr>\n",
       "  </thead>\n",
       "  <tbody>\n",
       "    <tr>\n",
       "      <th>0</th>\n",
       "      <td>6287</td>\n",
       "      <td>1</td>\n",
       "      <td>10-costly-pension-mistakes</td>\n",
       "    </tr>\n",
       "    <tr>\n",
       "      <th>1</th>\n",
       "      <td>8095</td>\n",
       "      <td>3</td>\n",
       "      <td>10-facts-investors-need-to-know-about-tesco-sa...</td>\n",
       "    </tr>\n",
       "    <tr>\n",
       "      <th>2</th>\n",
       "      <td>2781</td>\n",
       "      <td>3</td>\n",
       "      <td>10-facts-investors-need-to-know-about-tesco-sa...</td>\n",
       "    </tr>\n",
       "    <tr>\n",
       "      <th>3</th>\n",
       "      <td>5624</td>\n",
       "      <td>3</td>\n",
       "      <td>10-facts-investors-need-to-know-about-tesco-sa...</td>\n",
       "    </tr>\n",
       "    <tr>\n",
       "      <th>4</th>\n",
       "      <td>372</td>\n",
       "      <td>3</td>\n",
       "      <td>10-facts-investors-need-to-know-about-tesco-sa...</td>\n",
       "    </tr>\n",
       "  </tbody>\n",
       "</table>\n",
       "</div>"
      ],
      "text/plain": [
       "   user_id  article_id                                              title\n",
       "0     6287           1                         10-costly-pension-mistakes\n",
       "1     8095           3  10-facts-investors-need-to-know-about-tesco-sa...\n",
       "2     2781           3  10-facts-investors-need-to-know-about-tesco-sa...\n",
       "3     5624           3  10-facts-investors-need-to-know-about-tesco-sa...\n",
       "4      372           3  10-facts-investors-need-to-know-about-tesco-sa..."
      ]
     },
     "execution_count": 53,
     "metadata": {},
     "output_type": "execute_result"
    }
   ],
   "source": [
    "df.head()"
   ]
  },
  {
   "cell_type": "markdown",
   "id": "15b5dfeb",
   "metadata": {},
   "source": [
    "Seems like nothing is missing."
   ]
  },
  {
   "cell_type": "code",
   "execution_count": 54,
   "id": "d92db9ec",
   "metadata": {},
   "outputs": [
    {
     "data": {
      "text/plain": [
       "True"
      ]
     },
     "execution_count": 54,
     "metadata": {},
     "output_type": "execute_result"
    }
   ],
   "source": [
    "len(df) == len(df_history)"
   ]
  },
  {
   "cell_type": "code",
   "execution_count": 55,
   "id": "80fee9f3",
   "metadata": {},
   "outputs": [
    {
     "data": {
      "text/plain": [
       "4638    1163\n",
       "4985    1042\n",
       "4695     982\n",
       "6150     956\n",
       "7769     937\n",
       "7849     806\n",
       "6492     779\n",
       "7018     735\n",
       "2242     728\n",
       "1258     712\n",
       "Name: user_id, dtype: int64"
      ]
     },
     "execution_count": 55,
     "metadata": {},
     "output_type": "execute_result"
    }
   ],
   "source": [
    "# Top 10 uesers\n",
    "df.user_id.value_counts()[: 10]"
   ]
  },
  {
   "cell_type": "code",
   "execution_count": 56,
   "id": "0b0bbb6a",
   "metadata": {},
   "outputs": [
    {
     "data": {
      "text/plain": [
       "next-week-on-the-stock-market                                                 1166\n",
       "oil-and-stock-markets-fall-our-view                                           1074\n",
       "woodford-our-view                                                              783\n",
       "the-most-popular-stocks-and-shares-isa-funds-from-august-2020                  691\n",
       "what-does-coronavirus-mean-for-investors                                       680\n",
       "the-ukraine-crisis-what-it-means-for-investors                                 663\n",
       "woodford-equity-income-all-dealing-suspended-following-redemption-concerns     646\n",
       "3-better-performing-sectors-in-the-coronavirus-downturn                        645\n",
       "woodford-equity-income-what-to-expect-now                                      639\n",
       "five-shares-for-an-isa-2019                                                    580\n",
       "Name: title, dtype: int64"
      ]
     },
     "execution_count": 56,
     "metadata": {},
     "output_type": "execute_result"
    }
   ],
   "source": [
    "# Top 10 articles\n",
    "\n",
    "df.title.value_counts()[: 10]"
   ]
  },
  {
   "cell_type": "code",
   "execution_count": 57,
   "id": "e7723e6d",
   "metadata": {},
   "outputs": [
    {
     "data": {
      "text/plain": [
       "user_id       0\n",
       "article_id    0\n",
       "title         2\n",
       "dtype: int64"
      ]
     },
     "execution_count": 57,
     "metadata": {},
     "output_type": "execute_result"
    }
   ],
   "source": [
    "df.isnull().sum()"
   ]
  },
  {
   "cell_type": "code",
   "execution_count": 58,
   "id": "e6106a2d",
   "metadata": {},
   "outputs": [],
   "source": [
    "# If there are null values, replace them with a default value\n",
    "df[\"title\"].fillna(\"No title\", inplace=True)"
   ]
  },
  {
   "cell_type": "code",
   "execution_count": 59,
   "id": "80c888a0",
   "metadata": {},
   "outputs": [],
   "source": [
    "# Count the number of unique users and articles\n",
    "unique_users = df[\"user_id\"].unique()\n",
    "unique_articles = df[\"article_id\"].unique()"
   ]
  },
  {
   "cell_type": "code",
   "execution_count": 60,
   "id": "39ce672a",
   "metadata": {},
   "outputs": [
    {
     "name": "stdout",
     "output_type": "stream",
     "text": [
      "Total unique users: 6905\n"
     ]
    }
   ],
   "source": [
    "print(\"Total unique users:\", len(unique_users))"
   ]
  },
  {
   "cell_type": "code",
   "execution_count": 61,
   "id": "8dd16600",
   "metadata": {},
   "outputs": [
    {
     "name": "stdout",
     "output_type": "stream",
     "text": [
      "Total unique articles: 2482\n"
     ]
    }
   ],
   "source": [
    "print(\"Total unique articles:\", len(unique_articles))"
   ]
  },
  {
   "cell_type": "code",
   "execution_count": 56,
   "id": "05e9c74b",
   "metadata": {},
   "outputs": [
    {
     "data": {
      "text/plain": [
       "4638    1163\n",
       "4985    1042\n",
       "4695     982\n",
       "6150     956\n",
       "7769     937\n",
       "        ... \n",
       "9729      37\n",
       "7655      37\n",
       "9288      37\n",
       "6768      37\n",
       "3977      37\n",
       "Name: user_id, Length: 1000, dtype: int64"
      ]
     },
     "execution_count": 56,
     "metadata": {},
     "output_type": "execute_result"
    }
   ],
   "source": [
    "df.user_id.value_counts()[:1000]"
   ]
  },
  {
   "cell_type": "code",
   "execution_count": 62,
   "id": "a9374b03",
   "metadata": {},
   "outputs": [],
   "source": [
    "import nltk\n",
    "\n",
    "# Import the stopwords library from NLTK\n",
    "stopwords = nltk.corpus.stopwords.words(\"english\")"
   ]
  },
  {
   "cell_type": "code",
   "execution_count": 63,
   "id": "49c5b3f8",
   "metadata": {},
   "outputs": [
    {
     "data": {
      "image/png": "[encoded data removed]",
      "text/plain": [
       "<Figure size 640x480 with 1 Axes>"
      ]
     },
     "metadata": {},
     "output_type": "display_data"
    }
   ],
   "source": [
    "# Identify the most popular topics without stopwords\n",
    "topic_counts = {}\n",
    "for title in df[\"title\"]:\n",
    "    words = title.split(\"-\")\n",
    "    for word in words:\n",
    "        if word not in stopwords:\n",
    "            if word not in topic_counts:\n",
    "                topic_counts[word] = 0\n",
    "            topic_counts[word] += 1\n",
    "\n",
    "popular_topics = sorted(topic_counts.items(), key=lambda x: x[1], reverse=True)[:5]\n",
    "\n",
    "# Create a DataFrame of the most popular topics\n",
    "df_popular_topics = pd.DataFrame(popular_topics, columns=[\"Topic\", \"Count\"])\n",
    "\n",
    "# Create a bar chart of the most popular topics\n",
    "sns.set_style('whitegrid')\n",
    "plt.xticks(rotation=70)\n",
    "plt.bar(df_popular_topics[\"Topic\"], df_popular_topics[\"Count\"])\n",
    "plt.xlabel(\"Topic\")\n",
    "plt.ylabel(\"Number of times\")\n",
    "plt.show()"
   ]
  },
  {
   "cell_type": "markdown",
   "id": "c1c2765f",
   "metadata": {},
   "source": [
    "# TF-IDF\n",
    "\n",
    "TF-IDF stands for term frequency–inverse document frequency. It is a numerical statistic that is intended to reflect how important a word is to a document in a collection or corpus. TF-IDF is often used as a weighting factor in searches of information retrieval, text mining, and user modeling.\n",
    "\n",
    "The TF-IDF score is calculated by multiplying two metrics:\n",
    "\n",
    "- Term frequency (TF): This is the number of times a word appears in a document.\n",
    "- Inverse document frequency (IDF): This is a measure of how common a word is in a corpus. \n",
    "<br></br>\n",
    "The TF-IDF score is higher for words that appear frequently in a document but are not common in the corpus. This means that these words are more likely to be important to the document."
   ]
  },
  {
   "cell_type": "markdown",
   "id": "683cd36e",
   "metadata": {},
   "source": [
    "Considering we have many values which are repeating we need to limit our dataframe for the titles with only unique elements."
   ]
  },
  {
   "cell_type": "code",
   "execution_count": 58,
   "id": "b29b75c9",
   "metadata": {},
   "outputs": [],
   "source": [
    "df.title = df.title.str.replace('-', ' ')"
   ]
  },
  {
   "cell_type": "code",
   "execution_count": 59,
   "id": "e6d933ad",
   "metadata": {},
   "outputs": [
    {
     "data": {
      "text/plain": [
       "0                                10 costly pension mistakes\n",
       "1         10 facts investors need to know about tesco sa...\n",
       "2         10 facts investors need to know about tesco sa...\n",
       "3         10 facts investors need to know about tesco sa...\n",
       "4         10 facts investors need to know about tesco sa...\n",
       "                                ...                        \n",
       "165741                         your isa questions, answered\n",
       "165742                         your isa questions, answered\n",
       "165743                         your isa questions, answered\n",
       "165744                         your isa questions, answered\n",
       "165745                         your isa questions, answered\n",
       "Name: title, Length: 165746, dtype: object"
      ]
     },
     "execution_count": 59,
     "metadata": {},
     "output_type": "execute_result"
    }
   ],
   "source": [
    "df.title"
   ]
  },
  {
   "cell_type": "code",
   "execution_count": 60,
   "id": "6b4f38d9",
   "metadata": {},
   "outputs": [],
   "source": [
    "df_title = df.drop_duplicates(subset=['title', 'article_id'])\n",
    "df_title = df_title[['article_id', 'title']] \n",
    "df_title.set_index('article_id', inplace=True)"
   ]
  },
  {
   "cell_type": "code",
   "execution_count": 61,
   "id": "0f97576e",
   "metadata": {},
   "outputs": [
    {
     "data": {
      "text/html": [
       "<div>\n",
       "<style scoped>\n",
       "    .dataframe tbody tr th:only-of-type {\n",
       "        vertical-align: middle;\n",
       "    }\n",
       "\n",
       "    .dataframe tbody tr th {\n",
       "        vertical-align: top;\n",
       "    }\n",
       "\n",
       "    .dataframe thead th {\n",
       "        text-align: right;\n",
       "    }\n",
       "</style>\n",
       "<table border=\"1\" class=\"dataframe\">\n",
       "  <thead>\n",
       "    <tr style=\"text-align: right;\">\n",
       "      <th></th>\n",
       "      <th>title</th>\n",
       "    </tr>\n",
       "    <tr>\n",
       "      <th>article_id</th>\n",
       "      <th></th>\n",
       "    </tr>\n",
       "  </thead>\n",
       "  <tbody>\n",
       "    <tr>\n",
       "      <th>1</th>\n",
       "      <td>10 costly pension mistakes</td>\n",
       "    </tr>\n",
       "    <tr>\n",
       "      <th>3</th>\n",
       "      <td>10 facts investors need to know about tesco sa...</td>\n",
       "    </tr>\n",
       "    <tr>\n",
       "      <th>4</th>\n",
       "      <td>10 most popular funds for isas last month</td>\n",
       "    </tr>\n",
       "    <tr>\n",
       "      <th>5</th>\n",
       "      <td>10 most popular isa funds in august</td>\n",
       "    </tr>\n",
       "    <tr>\n",
       "      <th>6</th>\n",
       "      <td>10 most popular isa funds in december</td>\n",
       "    </tr>\n",
       "    <tr>\n",
       "      <th>...</th>\n",
       "      <td>...</td>\n",
       "    </tr>\n",
       "    <tr>\n",
       "      <th>2544</th>\n",
       "      <td>you dont have to be old or rich to have a pension</td>\n",
       "    </tr>\n",
       "    <tr>\n",
       "      <th>2545</th>\n",
       "      <td>your 2022 financial plan 3 times to call in th...</td>\n",
       "    </tr>\n",
       "    <tr>\n",
       "      <th>2546</th>\n",
       "      <td>your five minute guide to real estate investme...</td>\n",
       "    </tr>\n",
       "    <tr>\n",
       "      <th>2547</th>\n",
       "      <td>your guide to saving tax</td>\n",
       "    </tr>\n",
       "    <tr>\n",
       "      <th>2548</th>\n",
       "      <td>your isa questions, answered</td>\n",
       "    </tr>\n",
       "  </tbody>\n",
       "</table>\n",
       "<p>2482 rows × 1 columns</p>\n",
       "</div>"
      ],
      "text/plain": [
       "                                                        title\n",
       "article_id                                                   \n",
       "1                                  10 costly pension mistakes\n",
       "3           10 facts investors need to know about tesco sa...\n",
       "4                   10 most popular funds for isas last month\n",
       "5                         10 most popular isa funds in august\n",
       "6                       10 most popular isa funds in december\n",
       "...                                                       ...\n",
       "2544        you dont have to be old or rich to have a pension\n",
       "2545        your 2022 financial plan 3 times to call in th...\n",
       "2546        your five minute guide to real estate investme...\n",
       "2547                                 your guide to saving tax\n",
       "2548                             your isa questions, answered\n",
       "\n",
       "[2482 rows x 1 columns]"
      ]
     },
     "execution_count": 61,
     "metadata": {},
     "output_type": "execute_result"
    }
   ],
   "source": [
    "df_title"
   ]
  },
  {
   "cell_type": "code",
   "execution_count": 62,
   "id": "5ecb8764",
   "metadata": {},
   "outputs": [],
   "source": [
    "tfidf = TfidfVectorizer(stop_words='english')\n",
    "\n",
    "# In case if we have any missing values. We have in fact 2 in title feature\n",
    "df_title['title'] = df_title['title'].fillna(\"\")\n",
    "\n",
    "tfidf_matrix = tfidf.fit_transform(df_title['title'])"
   ]
  },
  {
   "cell_type": "markdown",
   "id": "5e2ee9bf",
   "metadata": {},
   "source": [
    "Let's find cosine similarity between words in `tfidf_matrix`"
   ]
  },
  {
   "cell_type": "code",
   "execution_count": 63,
   "id": "6ed07a70",
   "metadata": {},
   "outputs": [],
   "source": [
    "cosine_sim = linear_kernel(tfidf_matrix, tfidf_matrix)"
   ]
  },
  {
   "cell_type": "code",
   "execution_count": 64,
   "id": "5df0c0d2",
   "metadata": {},
   "outputs": [],
   "source": [
    "indices = pd.Series(df_title.index, index=df_title['title']).drop_duplicates()"
   ]
  },
  {
   "cell_type": "code",
   "execution_count": 65,
   "id": "5ba13696",
   "metadata": {},
   "outputs": [
    {
     "data": {
      "text/plain": [
       "title\n",
       "10 costly pension mistakes                                                                                       1\n",
       "10 facts investors need to know about tesco sainsburys and morrisons                                             3\n",
       "10 most popular funds for isas last month                                                                        4\n",
       "10 most popular isa funds in august                                                                              5\n",
       "10 most popular isa funds in december                                                                            6\n",
       "                                                                                                              ... \n",
       "you dont have to be old or rich to have a pension                                                             2544\n",
       "your 2022 financial plan 3 times to call in the experts                                                       2545\n",
       "your five minute guide to real estate investment trusts reits and why income investors could consider them    2546\n",
       "your guide to saving tax                                                                                      2547\n",
       "your isa questions, answered                                                                                  2548\n",
       "Name: article_id, Length: 2482, dtype: int64"
      ]
     },
     "execution_count": 65,
     "metadata": {},
     "output_type": "execute_result"
    }
   ],
   "source": [
    "indices"
   ]
  },
  {
   "cell_type": "code",
   "execution_count": 66,
   "id": "8069f690",
   "metadata": {},
   "outputs": [
    {
     "data": {
      "text/plain": [
       "4"
      ]
     },
     "execution_count": 66,
     "metadata": {},
     "output_type": "execute_result"
    }
   ],
   "source": [
    "indices[2]"
   ]
  },
  {
   "cell_type": "code",
   "execution_count": 67,
   "id": "0c4bf9de",
   "metadata": {},
   "outputs": [],
   "source": [
    "def get_recommendation(idx, cosine_sim = cosine_sim):\n",
    "        \n",
    "    sim_scores = enumerate(cosine_sim[idx])\n",
    "    \n",
    "    sim_scores = sorted(sim_scores, key=lambda x : x[1], reverse=True)\n",
    "    \n",
    "    sim_scores = sim_scores[1: 11]\n",
    "    \n",
    "    sim_scores = sim_scores[1: min(len(df_title), 11)]  # Adjust the slice based on df_title size\n",
    "    \n",
    "    sim_index = [i[0] for i in sim_scores]\n",
    "    \n",
    "    return sim_index"
   ]
  },
  {
   "cell_type": "code",
   "execution_count": 68,
   "id": "8ef09a16",
   "metadata": {},
   "outputs": [
    {
     "data": {
      "text/plain": [
       "[5, 2016, 1382, 1965, 1381, 1383, 1384, 1683, 2]"
      ]
     },
     "execution_count": 68,
     "metadata": {},
     "output_type": "execute_result"
    }
   ],
   "source": [
    "get_recommendation(4)"
   ]
  },
  {
   "cell_type": "code",
   "execution_count": 71,
   "id": "eb67a0f5",
   "metadata": {},
   "outputs": [
    {
     "data": {
      "text/plain": [
       "'the tax years 10 most popular isa funds'"
      ]
     },
     "execution_count": 71,
     "metadata": {},
     "output_type": "execute_result"
    }
   ],
   "source": [
    "df_title.title.iat[2016]"
   ]
  },
  {
   "cell_type": "code",
   "execution_count": 182,
   "id": "21827002",
   "metadata": {},
   "outputs": [],
   "source": [
    "test_idx = get_recommendation(4)"
   ]
  },
  {
   "cell_type": "code",
   "execution_count": 183,
   "id": "f83ccd58",
   "metadata": {},
   "outputs": [
    {
     "data": {
      "text/html": [
       "<div>\n",
       "<style scoped>\n",
       "    .dataframe tbody tr th:only-of-type {\n",
       "        vertical-align: middle;\n",
       "    }\n",
       "\n",
       "    .dataframe tbody tr th {\n",
       "        vertical-align: top;\n",
       "    }\n",
       "\n",
       "    .dataframe thead th {\n",
       "        text-align: right;\n",
       "    }\n",
       "</style>\n",
       "<table border=\"1\" class=\"dataframe\">\n",
       "  <thead>\n",
       "    <tr style=\"text-align: right;\">\n",
       "      <th></th>\n",
       "      <th>user_id</th>\n",
       "      <th>article_id</th>\n",
       "      <th>title</th>\n",
       "    </tr>\n",
       "  </thead>\n",
       "  <tbody>\n",
       "    <tr>\n",
       "      <th>15</th>\n",
       "      <td>3389</td>\n",
       "      <td>5</td>\n",
       "      <td>10 most popular isa funds in august</td>\n",
       "    </tr>\n",
       "    <tr>\n",
       "      <th>16</th>\n",
       "      <td>8066</td>\n",
       "      <td>5</td>\n",
       "      <td>10 most popular isa funds in august</td>\n",
       "    </tr>\n",
       "    <tr>\n",
       "      <th>17</th>\n",
       "      <td>942</td>\n",
       "      <td>5</td>\n",
       "      <td>10 most popular isa funds in august</td>\n",
       "    </tr>\n",
       "    <tr>\n",
       "      <th>18</th>\n",
       "      <td>942</td>\n",
       "      <td>5</td>\n",
       "      <td>10 most popular isa funds in august</td>\n",
       "    </tr>\n",
       "    <tr>\n",
       "      <th>19</th>\n",
       "      <td>2663</td>\n",
       "      <td>5</td>\n",
       "      <td>10 most popular isa funds in august</td>\n",
       "    </tr>\n",
       "    <tr>\n",
       "      <th>...</th>\n",
       "      <td>...</td>\n",
       "      <td>...</td>\n",
       "      <td>...</td>\n",
       "    </tr>\n",
       "    <tr>\n",
       "      <th>127120</th>\n",
       "      <td>5795</td>\n",
       "      <td>2016</td>\n",
       "      <td>the most popular isa funds in 2019</td>\n",
       "    </tr>\n",
       "    <tr>\n",
       "      <th>127121</th>\n",
       "      <td>2302</td>\n",
       "      <td>2016</td>\n",
       "      <td>the most popular isa funds in 2019</td>\n",
       "    </tr>\n",
       "    <tr>\n",
       "      <th>127122</th>\n",
       "      <td>5374</td>\n",
       "      <td>2016</td>\n",
       "      <td>the most popular isa funds in 2019</td>\n",
       "    </tr>\n",
       "    <tr>\n",
       "      <th>127123</th>\n",
       "      <td>1750</td>\n",
       "      <td>2016</td>\n",
       "      <td>the most popular isa funds in 2019</td>\n",
       "    </tr>\n",
       "    <tr>\n",
       "      <th>127124</th>\n",
       "      <td>1070</td>\n",
       "      <td>2016</td>\n",
       "      <td>the most popular isa funds in 2019</td>\n",
       "    </tr>\n",
       "  </tbody>\n",
       "</table>\n",
       "<p>571 rows × 3 columns</p>\n",
       "</div>"
      ],
      "text/plain": [
       "        user_id  article_id                                title\n",
       "15         3389           5  10 most popular isa funds in august\n",
       "16         8066           5  10 most popular isa funds in august\n",
       "17          942           5  10 most popular isa funds in august\n",
       "18          942           5  10 most popular isa funds in august\n",
       "19         2663           5  10 most popular isa funds in august\n",
       "...         ...         ...                                  ...\n",
       "127120     5795        2016   the most popular isa funds in 2019\n",
       "127121     2302        2016   the most popular isa funds in 2019\n",
       "127122     5374        2016   the most popular isa funds in 2019\n",
       "127123     1750        2016   the most popular isa funds in 2019\n",
       "127124     1070        2016   the most popular isa funds in 2019\n",
       "\n",
       "[571 rows x 3 columns]"
      ]
     },
     "execution_count": 183,
     "metadata": {},
     "output_type": "execute_result"
    }
   ],
   "source": [
    "df[df.article_id.isin(test_idx)]"
   ]
  },
  {
   "cell_type": "code",
   "execution_count": 233,
   "id": "b9f217db",
   "metadata": {},
   "outputs": [],
   "source": [
    "df_test = df_test[df_test.article_id.isin(df_title.index)]"
   ]
  },
  {
   "cell_type": "code",
   "execution_count": null,
   "id": "71f6dacb",
   "metadata": {},
   "outputs": [],
   "source": [
    "df_test['recommendations'] = df_test['article_id'].apply(lambda idx: get_recommendation(idx, cosine_sim))"
   ]
  },
  {
   "cell_type": "markdown",
   "id": "ff7c8097",
   "metadata": {},
   "source": [
    "# Content-Based Filtering\n",
    "\n",
    "In order to make this work we need to introduce raiting somehow to the data we use. This can be artificially done by applying count of views for each article."
   ]
  },
  {
   "cell_type": "code",
   "execution_count": 2,
   "id": "79a3f3ba",
   "metadata": {},
   "outputs": [],
   "source": [
    "df_history =  pd.read_csv('article_views_synthetic_train.csv')\n",
    "df_art = pd.read_csv('article_ids.csv')\n",
    "df_test = pd.read_csv('article_views_synthetic_test.csv')\n",
    "df = pd.merge(df_history, df_art, how='inner', on='article_id')\n",
    "df.title = df.title.str.replace('-', ' ')"
   ]
  },
  {
   "cell_type": "code",
   "execution_count": 3,
   "id": "3ed3c989",
   "metadata": {},
   "outputs": [],
   "source": [
    "import torch\n",
    "from torch.autograd import Variable\n",
    "from torch.utils.data import Dataset, DataLoader\n",
    "from sklearn.feature_extraction.text import CountVectorizer"
   ]
  },
  {
   "cell_type": "code",
   "execution_count": 4,
   "id": "9aa04ee1",
   "metadata": {},
   "outputs": [],
   "source": [
    "df['rating'] = df.groupby('article_id')['article_id'].transform('count')"
   ]
  },
  {
   "cell_type": "code",
   "execution_count": 5,
   "id": "a0d1a1fd",
   "metadata": {},
   "outputs": [
    {
     "data": {
      "text/html": [
       "<div>\n",
       "<style scoped>\n",
       "    .dataframe tbody tr th:only-of-type {\n",
       "        vertical-align: middle;\n",
       "    }\n",
       "\n",
       "    .dataframe tbody tr th {\n",
       "        vertical-align: top;\n",
       "    }\n",
       "\n",
       "    .dataframe thead th {\n",
       "        text-align: right;\n",
       "    }\n",
       "</style>\n",
       "<table border=\"1\" class=\"dataframe\">\n",
       "  <thead>\n",
       "    <tr style=\"text-align: right;\">\n",
       "      <th></th>\n",
       "      <th>user_id</th>\n",
       "      <th>article_id</th>\n",
       "      <th>title</th>\n",
       "      <th>rating</th>\n",
       "    </tr>\n",
       "  </thead>\n",
       "  <tbody>\n",
       "    <tr>\n",
       "      <th>0</th>\n",
       "      <td>6287</td>\n",
       "      <td>1</td>\n",
       "      <td>10 costly pension mistakes</td>\n",
       "      <td>1</td>\n",
       "    </tr>\n",
       "    <tr>\n",
       "      <th>1</th>\n",
       "      <td>8095</td>\n",
       "      <td>3</td>\n",
       "      <td>10 facts investors need to know about tesco sa...</td>\n",
       "      <td>6</td>\n",
       "    </tr>\n",
       "    <tr>\n",
       "      <th>2</th>\n",
       "      <td>2781</td>\n",
       "      <td>3</td>\n",
       "      <td>10 facts investors need to know about tesco sa...</td>\n",
       "      <td>6</td>\n",
       "    </tr>\n",
       "    <tr>\n",
       "      <th>3</th>\n",
       "      <td>5624</td>\n",
       "      <td>3</td>\n",
       "      <td>10 facts investors need to know about tesco sa...</td>\n",
       "      <td>6</td>\n",
       "    </tr>\n",
       "    <tr>\n",
       "      <th>4</th>\n",
       "      <td>372</td>\n",
       "      <td>3</td>\n",
       "      <td>10 facts investors need to know about tesco sa...</td>\n",
       "      <td>6</td>\n",
       "    </tr>\n",
       "  </tbody>\n",
       "</table>\n",
       "</div>"
      ],
      "text/plain": [
       "   user_id  article_id                                              title  \\\n",
       "0     6287           1                         10 costly pension mistakes   \n",
       "1     8095           3  10 facts investors need to know about tesco sa...   \n",
       "2     2781           3  10 facts investors need to know about tesco sa...   \n",
       "3     5624           3  10 facts investors need to know about tesco sa...   \n",
       "4      372           3  10 facts investors need to know about tesco sa...   \n",
       "\n",
       "   rating  \n",
       "0       1  \n",
       "1       6  \n",
       "2       6  \n",
       "3       6  \n",
       "4       6  "
      ]
     },
     "execution_count": 5,
     "metadata": {},
     "output_type": "execute_result"
    }
   ],
   "source": [
    "df.head()"
   ]
  },
  {
   "cell_type": "code",
   "execution_count": 26,
   "id": "fdd1e037",
   "metadata": {},
   "outputs": [
    {
     "name": "stdout",
     "output_type": "stream",
     "text": [
      "Number of unique users: 6905\n",
      "Number of unique articles: 2482\n",
      "The full rating matrix will have: 17138210 elements.\n",
      "--------\n",
      "Number of ratings: 165746\n",
      "Therefore:  0.9671138351088007 % of matrix is filled.\n",
      "We have incredibly sparse matrix to work with here.\n",
      "And... as you can imagine, as the number of users and products grow, the number of elements will increase by n*2\n",
      "You are going to need a lot of memory to work with global scale... storing a full matrix in memory would be a challenge.\n",
      "One advantage here is that matrix factorization can realize the rating matrix implicitly, thus we don't need all the data.\n"
     ]
    }
   ],
   "source": [
    "# Article ID to article title mapping\n",
    "article_names = df.set_index('article_id')['title'].to_dict()\n",
    "n_users = len(df['user_id'].unique())\n",
    "n_articles = len(df['article_id'].unique())\n",
    "print('Number of unique users:', n_users)\n",
    "print(\"Number of unique articles:\", n_articles)\n",
    "print(\"The full rating matrix will have:\", n_users*n_articles, 'elements.')\n",
    "print(\"--------\")\n",
    "print(\"Number of ratings:\", len(df))\n",
    "print(\"Therefore: \", len(df) / (n_users * n_articles) * 100, '% of matrix is filled.')\n",
    "print(\"We have incredibly sparse matrix to work with here.\")\n",
    "print(\"And... as you can imagine, as the number of users and products grow, the number of elements will increase by n*2\")\n",
    "print(\"You are going to need a lot of memory to work with global scale... storing a full matrix in memory would be a challenge.\")\n",
    "print(\"One advantage here is that matrix factorization can realize the rating matrix implicitly, thus we don't need all the data.\")"
   ]
  },
  {
   "cell_type": "code",
   "execution_count": 7,
   "id": "34bbdfe0",
   "metadata": {},
   "outputs": [],
   "source": [
    "# Define the MatrixFactorization class\n",
    "class MatrixFactorization(torch.nn.Module):\n",
    "    def __init__(self, n_users, n_articles, n_factors=20):\n",
    "        super().__init__()\n",
    "        self.user_factors = torch.nn.Embedding(n_users, n_factors)\n",
    "        self.article_factors = torch.nn.Embedding(n_articles, n_factors)\n",
    "        self.user_factors.weight.data.uniform_(0, 0.05)\n",
    "        self.article_factors.weight.data.uniform_(0, 0.05)\n",
    "        \n",
    "    def forward(self, data):\n",
    "        users, articles = data[:, 0], data[:, 1]\n",
    "        return (self.user_factors(users) * self.article_factors(articles)).sum(1)\n",
    "        \n",
    "    def predict(self, user_ids, article_ids):\n",
    "        user_factors = self.user_factors(torch.tensor(user_ids))\n",
    "        article_factors = self.article_factors(torch.tensor(article_ids))\n",
    "        return torch.sum(user_factors * article_factors, dim=1)"
   ]
  },
  {
   "cell_type": "code",
   "execution_count": 8,
   "id": "6a104c41",
   "metadata": {},
   "outputs": [],
   "source": [
    "# creating the dataloader (necessary for pytorch)\n",
    "from torch.utils.data.dataset import Dataset\n",
    "from torch.utils.data import DataLoader # package that helps transform your data to machine learning readiness"
   ]
  },
  {
   "cell_type": "code",
   "execution_count": 9,
   "id": "e00dace5",
   "metadata": {},
   "outputs": [],
   "source": [
    "# Define the DataLoader\n",
    "class Loader(Dataset):\n",
    "    def __init__(self, df, n_users, n_articles):\n",
    "        self.ratings = df.copy()\n",
    "        self.userid2idx = {o: i for i, o in enumerate(df['user_id'].unique())}\n",
    "        self.articleid2idx = {o: i for i, o in enumerate(df['article_id'].unique())}\n",
    "        self.ratings['user_id'] = df['user_id'].apply(lambda x: self.userid2idx[x])\n",
    "        self.ratings['article_id'] = df['article_id'].apply(lambda x: self.articleid2idx[x])\n",
    "        self.x = self.ratings[['user_id', 'article_id']].values\n",
    "        self.y = self.ratings['rating'].values\n",
    "        self.x, self.y = torch.tensor(self.x), torch.tensor(self.y, dtype=torch.float32)\n",
    "    \n",
    "    def __getitem__(self, index):\n",
    "        return (self.x[index], self.y[index])\n",
    "    \n",
    "    def __len__(self):\n",
    "        return len(self.ratings)"
   ]
  },
  {
   "cell_type": "code",
   "execution_count": 10,
   "id": "70b9d4cc",
   "metadata": {},
   "outputs": [],
   "source": [
    "# Set hyperparameters\n",
    "num_epochs = 128\n",
    "batch_size = 128\n",
    "learning_rate = 1e-3\n",
    "n_factors = 8\n",
    "\n",
    "# Create the model and DataLoader\n",
    "model = MatrixFactorization(n_users, n_articles, n_factors=n_factors)\n",
    "loss_fn = torch.nn.MSELoss()\n",
    "optimizer = torch.optim.Adam(model.parameters(), lr=learning_rate)\n",
    "train_set = Loader(df, n_users, n_articles)\n",
    "train_loader = DataLoader(train_set, batch_size=batch_size, shuffle=True)"
   ]
  },
  {
   "cell_type": "code",
   "execution_count": 11,
   "id": "87068c84",
   "metadata": {},
   "outputs": [
    {
     "name": "stderr",
     "output_type": "stream",
     "text": [
      "C:\\Users\\egoog\\AppData\\Local\\Temp\\ipykernel_14972\\3014734162.py:2: TqdmDeprecationWarning: This function will be removed in tqdm==5.0.0\n",
      "Please use `tqdm.notebook.tqdm` instead of `tqdm.tqdm_notebook`\n",
      "  for epoch in tqdm(range(num_epochs)):\n"
     ]
    },
    {
     "data": {
      "application/vnd.jupyter.widget-view+json": {
       "model_id": "6d443dad9c4e44ffb968de5caf1c5cf9",
       "version_major": 2,
       "version_minor": 0
      },
      "text/plain": [
       "  0%|          | 0/128 [00:00<?, ?it/s]"
      ]
     },
     "metadata": {},
     "output_type": "display_data"
    },
    {
     "name": "stdout",
     "output_type": "stream",
     "text": [
      "Epoch #0 Loss: 79585.97273467664\n",
      "Epoch #1 Loss: 77918.59106539575\n",
      "Epoch #2 Loss: 75117.07668315637\n",
      "Epoch #3 Loss: 71541.43100868726\n",
      "Epoch #4 Loss: 67417.22991976351\n",
      "Epoch #5 Loss: 62922.45958011583\n",
      "Epoch #6 Loss: 58216.25145994208\n",
      "Epoch #7 Loss: 53448.153865528475\n",
      "Epoch #8 Loss: 48755.03949837114\n",
      "Epoch #9 Loss: 44245.401904862454\n",
      "Epoch #10 Loss: 40000.2186859013\n",
      "Epoch #11 Loss: 36063.91574113176\n",
      "Epoch #12 Loss: 32461.435597022803\n",
      "Epoch #13 Loss: 29198.98487346163\n",
      "Epoch #14 Loss: 26258.806550509773\n",
      "Epoch #15 Loss: 23625.603408919524\n",
      "Epoch #16 Loss: 21274.638341955237\n",
      "Epoch #17 Loss: 19181.8653486215\n",
      "Epoch #18 Loss: 17317.32080681407\n",
      "Epoch #19 Loss: 15652.914386386945\n",
      "Epoch #20 Loss: 14166.717526468992\n",
      "Epoch #21 Loss: 12837.980617308156\n",
      "Epoch #22 Loss: 11648.888771793558\n",
      "Epoch #23 Loss: 10585.050445485944\n",
      "Epoch #24 Loss: 9637.50006145934\n",
      "Epoch #25 Loss: 8787.561692921996\n",
      "Epoch #26 Loss: 8023.161072295789\n",
      "Epoch #27 Loss: 7336.323735276153\n",
      "Epoch #28 Loss: 6716.62372203223\n",
      "Epoch #29 Loss: 6153.928034884773\n",
      "Epoch #30 Loss: 5641.957370266123\n",
      "Epoch #31 Loss: 5176.794774683654\n",
      "Epoch #32 Loss: 4750.228230150142\n",
      "Epoch #33 Loss: 4361.863076605484\n",
      "Epoch #34 Loss: 4006.4521827962867\n",
      "Epoch #35 Loss: 3679.704000300698\n",
      "Epoch #36 Loss: 3380.1812549487963\n",
      "Epoch #37 Loss: 3104.6226992927463\n",
      "Epoch #38 Loss: 2852.550777067089\n",
      "Epoch #39 Loss: 2619.5612969593653\n",
      "Epoch #40 Loss: 2407.0681710674035\n",
      "Epoch #41 Loss: 2213.1539090071865\n",
      "Epoch #42 Loss: 2033.9483978153655\n",
      "Epoch #43 Loss: 1869.083162801146\n",
      "Epoch #44 Loss: 1718.3753550938197\n",
      "Epoch #45 Loss: 1579.1794783838927\n",
      "Epoch #46 Loss: 1451.639192620944\n",
      "Epoch #47 Loss: 1334.41267142572\n",
      "Epoch #48 Loss: 1227.0080393905346\n",
      "Epoch #49 Loss: 1127.970703768638\n",
      "Epoch #50 Loss: 1037.216447504699\n",
      "Epoch #51 Loss: 953.7419203445257\n",
      "Epoch #52 Loss: 877.2880766820723\n",
      "Epoch #53 Loss: 806.9502173224931\n",
      "Epoch #54 Loss: 742.4208317635142\n",
      "Epoch #55 Loss: 683.3767030414007\n",
      "Epoch #56 Loss: 628.8225510280565\n",
      "Epoch #57 Loss: 578.4261542106688\n",
      "Epoch #58 Loss: 531.9820965048889\n",
      "Epoch #59 Loss: 488.8654450223253\n",
      "Epoch #60 Loss: 449.017788032031\n",
      "Epoch #61 Loss: 412.0371103386161\n",
      "Epoch #62 Loss: 377.9037654245222\n",
      "Epoch #63 Loss: 346.4483426193473\n",
      "Epoch #64 Loss: 317.4947483246391\n",
      "Epoch #65 Loss: 290.7464153542942\n",
      "Epoch #66 Loss: 266.0447346541872\n",
      "Epoch #67 Loss: 243.19652889934747\n",
      "Epoch #68 Loss: 222.1570401151208\n",
      "Epoch #69 Loss: 202.676294078652\n",
      "Epoch #70 Loss: 184.41071107599265\n",
      "Epoch #71 Loss: 167.36600994849758\n",
      "Epoch #72 Loss: 151.55461683268712\n",
      "Epoch #73 Loss: 136.74920244424038\n",
      "Epoch #74 Loss: 123.02563982725604\n",
      "Epoch #75 Loss: 110.20254268075509\n",
      "Epoch #76 Loss: 98.37938984225156\n",
      "Epoch #77 Loss: 87.3591020206687\n",
      "Epoch #78 Loss: 77.12884054126427\n",
      "Epoch #79 Loss: 67.68394136099742\n",
      "Epoch #80 Loss: 58.959791429990965\n",
      "Epoch #81 Loss: 50.95504077404853\n",
      "Epoch #82 Loss: 43.64776412344117\n",
      "Epoch #83 Loss: 37.02851335181923\n",
      "Epoch #84 Loss: 31.02611438025609\n",
      "Epoch #85 Loss: 25.66805448999276\n",
      "Epoch #86 Loss: 20.90926116940828\n",
      "Epoch #87 Loss: 16.71596506565349\n",
      "Epoch #88 Loss: 13.088489308475758\n",
      "Epoch #89 Loss: 9.974428482739162\n",
      "Epoch #90 Loss: 7.387915917494582\n",
      "Epoch #91 Loss: 5.245774119154597\n",
      "Epoch #92 Loss: 3.541525511345808\n",
      "Epoch #93 Loss: 2.243325680091574\n",
      "Epoch #94 Loss: 1.3352078726507983\n",
      "Epoch #95 Loss: 0.7175597712570175\n",
      "Epoch #96 Loss: 0.37867126506555493\n",
      "Epoch #97 Loss: 0.24389433208061922\n",
      "Epoch #98 Loss: 0.22168445295751324\n",
      "Epoch #99 Loss: 0.23707572399246646\n",
      "Epoch #100 Loss: 0.23281024824899826\n",
      "Epoch #101 Loss: 0.2533216675333535\n",
      "Epoch #102 Loss: 0.26929743617888124\n",
      "Epoch #103 Loss: 0.24948114768015833\n",
      "Epoch #104 Loss: 0.2530623848373825\n",
      "Epoch #105 Loss: 0.2532462292397575\n",
      "Epoch #106 Loss: 0.25682599933451206\n",
      "Epoch #107 Loss: 0.2564389372366736\n",
      "Epoch #108 Loss: 0.25971651999819234\n",
      "Epoch #109 Loss: 0.2540160530710658\n",
      "Epoch #110 Loss: 0.25700428101834644\n",
      "Epoch #111 Loss: 0.25776405470539243\n",
      "Epoch #112 Loss: 0.25311512054163515\n",
      "Epoch #113 Loss: 0.25249005736186236\n",
      "Epoch #114 Loss: 0.25299311390139423\n",
      "Epoch #115 Loss: 0.25647725596391097\n",
      "Epoch #116 Loss: 0.2521945833009182\n",
      "Epoch #117 Loss: 0.2540524556283555\n",
      "Epoch #118 Loss: 0.2551563948939436\n",
      "Epoch #119 Loss: 0.2543131852961185\n",
      "Epoch #120 Loss: 0.25543570049883774\n",
      "Epoch #121 Loss: 0.2522960922835416\n",
      "Epoch #122 Loss: 0.25629072151358984\n",
      "Epoch #123 Loss: 0.25231443120015634\n",
      "Epoch #124 Loss: 0.2606026095600662\n",
      "Epoch #125 Loss: 0.25039887629650737\n",
      "Epoch #126 Loss: 0.24711157733639236\n",
      "Epoch #127 Loss: 0.25377498922661007\n"
     ]
    }
   ],
   "source": [
    "# Train the model\n",
    "for epoch in tqdm(range(num_epochs)):\n",
    "    losses = []\n",
    "    for x, y in train_loader:\n",
    "        optimizer.zero_grad()\n",
    "        outputs = model(x)\n",
    "        loss = loss_fn(outputs, y)\n",
    "        losses.append(loss.item())\n",
    "        loss.backward()\n",
    "        optimizer.step()\n",
    "    print(\"Epoch #{}\".format(epoch), \"Loss:\", sum(losses) / len(losses))"
   ]
  },
  {
   "cell_type": "code",
   "execution_count": 12,
   "id": "56cbb299",
   "metadata": {},
   "outputs": [
    {
     "name": "stdout",
     "output_type": "stream",
     "text": [
      "user_factors.weight tensor([[2.6139, 2.5877, 2.5687,  ..., 2.5968, 2.5819, 2.5844],\n",
      "        [2.5741, 2.6139, 2.6155,  ..., 2.5914, 2.6100, 2.6019],\n",
      "        [2.6352, 2.6100, 2.5880,  ..., 2.5870, 2.5928, 2.5955],\n",
      "        ...,\n",
      "        [2.5747, 2.5798, 2.6048,  ..., 2.5807, 2.5876, 2.6016],\n",
      "        [2.5888, 2.6035, 2.6250,  ..., 2.5895, 2.6262, 2.6139],\n",
      "        [2.5717, 2.6116, 2.5784,  ..., 2.5787, 2.6070, 2.5752]])\n",
      "article_factors.weight tensor([[0.0822, 0.0470, 0.0835,  ..., 0.0391, 0.0769, 0.0779],\n",
      "        [0.2863, 0.2845, 0.2799,  ..., 0.2818, 0.2988, 0.2601],\n",
      "        [0.3856, 0.4154, 0.3997,  ..., 0.3715, 0.4063, 0.3615],\n",
      "        ...,\n",
      "        [0.6040, 0.5563, 0.5344,  ..., 0.5704, 0.5770, 0.5878],\n",
      "        [0.7358, 0.7065, 0.7094,  ..., 0.7307, 0.7085, 0.7504],\n",
      "        [0.2302, 0.2508, 0.2255,  ..., 0.2408, 0.2399, 0.2605]])\n"
     ]
    }
   ],
   "source": [
    "# By training the model, we will have tuned latent factors for movies and users.\n",
    "c = 0\n",
    "uw = 0\n",
    "aw = 0 \n",
    "for name, param in model.named_parameters():\n",
    "    if param.requires_grad:\n",
    "        print(name, param.data)\n",
    "        if c == 0:\n",
    "            uw = param.data\n",
    "            c +=1\n",
    "        else:\n",
    "            aw = param.data\n",
    "        #print('param_data', param_data)"
   ]
  },
  {
   "cell_type": "code",
   "execution_count": 13,
   "id": "27613486",
   "metadata": {},
   "outputs": [],
   "source": [
    "# Get the trained article embeddings\n",
    "trained_article_embeddings = model.article_factors.weight.data.numpy()"
   ]
  },
  {
   "cell_type": "code",
   "execution_count": 14,
   "id": "f6ba2be0",
   "metadata": {},
   "outputs": [
    {
     "data": {
      "text/plain": [
       "array([[0.08220757, 0.04704269, 0.08354402, ..., 0.03908075, 0.0768569 ,\n",
       "        0.07787406],\n",
       "       [0.28629875, 0.28450143, 0.27993223, ..., 0.28176308, 0.29877087,\n",
       "        0.26009586],\n",
       "       [0.3855626 , 0.41537502, 0.3996837 , ..., 0.37154964, 0.4063375 ,\n",
       "        0.36146083],\n",
       "       ...,\n",
       "       [0.6040157 , 0.5562786 , 0.53443664, ..., 0.57041556, 0.57700217,\n",
       "        0.5877844 ],\n",
       "       [0.73580897, 0.706459  , 0.709423  , ..., 0.7306917 , 0.70850235,\n",
       "        0.7503565 ],\n",
       "       [0.23017117, 0.25082123, 0.2254594 , ..., 0.24079882, 0.23985678,\n",
       "        0.26046526]], dtype=float32)"
      ]
     },
     "execution_count": 14,
     "metadata": {},
     "output_type": "execute_result"
    }
   ],
   "source": [
    "trained_article_embeddings"
   ]
  },
  {
   "cell_type": "code",
   "execution_count": 17,
   "id": "13f30250",
   "metadata": {},
   "outputs": [
    {
     "name": "stderr",
     "output_type": "stream",
     "text": [
      "C:\\Users\\egoog\\anaconda3\\envs\\symantic_nlp\\lib\\site-packages\\sklearn\\cluster\\_kmeans.py:870: FutureWarning: The default value of `n_init` will change from 10 to 'auto' in 1.4. Set the value of `n_init` explicitly to suppress the warning\n",
      "  warnings.warn(\n"
     ]
    }
   ],
   "source": [
    "from sklearn.cluster import KMeans\n",
    "\n",
    "# Fit KMeans clusters\n",
    "kmeans = KMeans(n_clusters=10, random_state=0).fit(trained_article_embeddings)"
   ]
  },
  {
   "cell_type": "code",
   "execution_count": 29,
   "id": "452ec707",
   "metadata": {},
   "outputs": [
    {
     "name": "stdout",
     "output_type": "stream",
     "text": [
      "Cluster #0\n",
      "\t negative oil price how, why, and what it means for investors\n",
      "\t looking beyond the pandemic reasons for economic optimism\n",
      "\t 3 uk share ideas companies that could benefit from an economic rebound\n",
      "\t five investment trusts to watch in 2021\n",
      "\t negative interest rates what are they and why do they matter for investors\n",
      "\t 3 investment trusts for a stocks and shares isa\n",
      "\t the folklore of the market investing lessons from the 1950s\n",
      "\t the dangers of trying to catch a falling knife\n",
      "\t uk stock market and funds review on the road to recovery\n",
      "\t global funds quarterly review whats done well in 2020\n",
      "Cluster #1\n",
      "\t the ukraine crisis what it means for investors\n",
      "\t ftse 350 next week\n",
      "\t investing through lockdowns three shares that could withstand disruption\n",
      "\t uk stock market and funds review hows the uk coping\n",
      "\t 2 dividend stocks to lift next years january blues\n",
      "\t what were the most popular shares in 201819 tax year so far\n",
      "\t 3 investment trusts for a stocks and shares isa 2022\n",
      "\t the ftse what is it and why is it important to investors\n",
      "\t 5.1bn paid in inheritance tax last year 5 steps to cut your bill\n",
      "\t 5 ipos that could be coming in 2021\n",
      "Cluster #2\n",
      "\t oil and stock markets fall our view\n",
      "\t the most popular stocks and shares isa funds from august 2020\n",
      "\t what does coronavirus mean for investors\n",
      "\t clone firm investment scams what are they and how to spot them\n",
      "\t 3 turnaround stocks to watch\n",
      "\t how rising interest rates can impact the stock market\n",
      "\t the uk shares warren buffetts teacher might consider buying today\n",
      "\t stock market drops lessons from history\n",
      "\t five shares to watch 2021 full year review\n",
      "\t the ftse 350 next week\n",
      "Cluster #3\n",
      "\t savings accounts green shoots for savings rates\n",
      "\t growth vs value investing whats the difference\n",
      "\t 3 french share ideas why investors should care about the next olympic host\n",
      "\t us funds sector review economic support continues to lift markets\n",
      "\t how to find quality companies 3 share ideas\n",
      "\t 3 things weve learnt in november so far and why it matters\n",
      "\t how are the supermarkets shaping up for christmas\n",
      "\t interest rates and stock market valuations\n",
      "\t the energy windfall tax what it means for you\n",
      "\t financial resolutions 2022 3 tips to help with your savings\n",
      "Cluster #4\n",
      "\t monks investment trust august 2021 update\n",
      "\t next week on the stock market 18 Oct 2021\n",
      "Cluster #5\n",
      "\t five shares for an isa 2019\n",
      "\t 3 shares that could thrive in a recession\n",
      "\t uk stock market a change in fortunes on the way\n",
      "\t investing for dividends what you need to know\n",
      "\t 3 fund ideas to help beat inflation\n",
      "\t investing in metals glittering future ahead\n",
      "\t how covid 19 has changed the ftse 100 and ftse 250\n",
      "\t airbnb ipo our view and how to invest\n",
      "\t 3 retirement changes wed like to see in the autumn budget\n",
      "\t the most popular shares in january\n",
      "Cluster #6\n",
      "\t the uk recession a financial advisers view\n",
      "\t three share ideas for a stocks and shares isa\n",
      "\t 5 esg shares ideas\n",
      "\t uk stock market and funds review is the worst of the pandemic behind us\n",
      "\t utilities shares sector update insulated not immune\n",
      "\t shares arent a one trick pony\n",
      "\t investing in technology a digital transformation\n",
      "\t uk banking sector earnings roundup and outlook\n",
      "\t the most popular shares in august 2019\n",
      "\t investing in commodities good for diversifying a portfolio\n",
      "Cluster #7\n",
      "\t next week on the stock market\n",
      "\t 3 better performing sectors in the coronavirus downturn\n",
      "\t most popular funds so far this year\n",
      "\t chartered financial advisers 3 tips in the face of an election\n",
      "\t investment and pension scams during coronavirus lockdown how to stay safe\n",
      "\t how we pick our five shares to watch\n",
      "\t what the ns and i interest rate cut means for savers\n",
      "\t are uk shares undervalued\n",
      "\t five shares to watch 2021 half year update\n",
      "\t 3 uk shares for the end of lockdown\n",
      "Cluster #8\n",
      "\t 2 share ideas to survive stagflation\n",
      "\t what to do with your lockdown savings\n",
      "\t what you need to know about the global energy market\n",
      "\t uk equity income why domestic funds might look overseas\n",
      "\t the evolution of commerce\n",
      "\t what would make you pay more into your pension\n",
      "\t tesco share price falls 15 following another profit warning\n",
      "Cluster #9\n",
      "\t hl multi manager funds how does the woodford suspension affect your investment\n",
      "\t uk budget 2021 what investors need to know\n",
      "\t 3 dividend stocks to add income to a portfolio\n",
      "\t the most popular isa funds in 2019\n",
      "\t three shares for the next decade\n",
      "\t ftse 100 shocks our view on a fearful market\n",
      "\t hl multi manager funds how does the woodford closure affect your investment\n",
      "\t value shares in 2021 time to shine\n",
      "\t dividend outlook 2021 to bring back yields\n",
      "\t a stock pickers guide to uncertainty\n"
     ]
    }
   ],
   "source": [
    "for cluster in range(10):\n",
    "    print(\"Cluster #{}\".format(cluster))\n",
    "    articles_in_cluster = []\n",
    "    for article_idx in np.where(kmeans.labels_ == cluster)[0]:\n",
    "        if article_idx in train_set.articleid2idx:\n",
    "            article_id = train_set.articleid2idx[article_idx]\n",
    "            if article_id in article_names:\n",
    "                article_title = article_names[article_id]\n",
    "                rating_count = df[df['article_id'] == article_id].shape[0]\n",
    "                articles_in_cluster.append((article_title, rating_count))\n",
    "    for article in sorted(articles_in_cluster, key=lambda tup: tup[1], reverse=True)[:10]:\n",
    "        print(\"\\t\", article[0])"
   ]
  },
  {
   "cell_type": "code",
   "execution_count": 33,
   "id": "9f56bdee",
   "metadata": {},
   "outputs": [],
   "source": [
    "cluster_articles = {cluster: [] for cluster in range(10)}\n",
    "\n",
    "# Assign articles to clusters and store them in the dictionary\n",
    "for article_idx, cluster_label in enumerate(kmeans.labels_):\n",
    "    if article_idx in train_set.articleid2idx:\n",
    "        article_id = train_set.articleid2idx[article_idx]\n",
    "        if article_id in article_names:\n",
    "            article_title = article_names[article_id]\n",
    "            rating_count = df[df['article_id'] == article_id].shape[0]\n",
    "            cluster_articles[cluster_label].append((article_title, rating_count))"
   ]
  },
  {
   "cell_type": "markdown",
   "id": "e5cd85dd",
   "metadata": {},
   "source": [
    "# Semantic analysis\n",
    "\n",
    "From those clusters we can identify whether user reads articles related to positive or negative events. This might potentially signalize that user can potentially sell stocks or buy new one. This TBD with domain experts."
   ]
  },
  {
   "cell_type": "code",
   "execution_count": 51,
   "id": "811cf8c7",
   "metadata": {},
   "outputs": [
    {
     "name": "stdout",
     "output_type": "stream",
     "text": [
      "Cluster #1 Sentiment: NEGATIVE\n",
      "Cluster #2 Sentiment: NEGATIVE\n",
      "Cluster #3 Sentiment: POSITIVE\n",
      "Cluster #4 Sentiment: NEGATIVE\n",
      "Cluster #5 Sentiment: NEGATIVE\n",
      "Cluster #6 Sentiment: POSITIVE\n",
      "Cluster #7 Sentiment: POSITIVE\n",
      "Cluster #8 Sentiment: POSITIVE\n",
      "Cluster #9 Sentiment: NEGATIVE\n",
      "Cluster #10 Sentiment: NEGATIVE\n"
     ]
    }
   ],
   "source": [
    "from transformers import pipeline\n",
    "import random\n",
    "\n",
    "from transformers import AutoTokenizer, AutoModelForSequenceClassification\n",
    "\n",
    "model_name = \"distilbert-base-uncased-finetuned-sst-2-english\"\n",
    "model = AutoModelForSequenceClassification.from_pretrained(model_name)\n",
    "tokenizer = AutoTokenizer.from_pretrained(model_name)\n",
    "classifier = pipeline(\"sentiment-analysis\", model=model, tokenizer=tokenizer)\n",
    "\n",
    "cluster_sentiments = {cluster: [] for cluster in range(10)}\n",
    "\n",
    "for cluster, articles_info in cluster_articles.items():\n",
    "    article_titles = [article_info[0] for article_info in articles_info]  # Collect all article titles\n",
    "\n",
    "    # Take four random article titles for each cluster\n",
    "    # This limitation is due to compute limitations but also could be wise solution from investment prospective\n",
    "    sample_size = min(4, len(article_titles))\n",
    "    random_titles = random.sample(article_titles, sample_size)\n",
    "\n",
    "    combined_titles = \", \".join(random_titles)  # Combine article titles with comma separation\n",
    "    sentiment_result = classifier([combined_titles])  # Classify the combined titles\n",
    "    cluster_sentiments[cluster].append(sentiment_result[0]['label'])\n",
    "\n",
    "for cluster, sentiments in cluster_sentiments.items():\n",
    "    cluster_sentiment = sentiments[0]\n",
    "    print(f\"Cluster #{cluster+1} Sentiment: {cluster_sentiment}\")"
   ]
  },
  {
   "cell_type": "code",
   "execution_count": null,
   "id": "88e0789a",
   "metadata": {},
   "outputs": [],
   "source": []
  }
 ],
 "metadata": {
  "kernelspec": {
   "display_name": "Python 3 (ipykernel)",
   "language": "python",
   "name": "python3"
  },
  "language_info": {
   "codemirror_mode": {
    "name": "ipython",
    "version": 3
   },
   "file_extension": ".py",
   "mimetype": "text/x-python",
   "name": "python",
   "nbconvert_exporter": "python",
   "pygments_lexer": "ipython3",
   "version": "3.9.0"
  }
 },
 "nbformat": 4,
 "nbformat_minor": 5
}

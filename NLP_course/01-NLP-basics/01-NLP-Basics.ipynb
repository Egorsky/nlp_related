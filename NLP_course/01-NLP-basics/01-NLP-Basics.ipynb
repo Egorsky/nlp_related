{
 "cells": [
  {
   "cell_type": "markdown",
   "id": "77175a2a",
   "metadata": {},
   "source": [
    "# Spacy basics\n",
    "\n",
    "In this notebook we will cover:\n",
    "- Loading the Language Library\n",
    "- Building a Pipeline Object\n",
    "- Using Tokens\n",
    "- Parts-of-Speech Tagging\n",
    "- Understanding Token Attributes"
   ]
  },
  {
   "cell_type": "code",
   "execution_count": 1,
   "id": "241deb6b",
   "metadata": {},
   "outputs": [],
   "source": [
    "import spacy"
   ]
  },
  {
   "cell_type": "code",
   "execution_count": 2,
   "id": "8cbb5dd0",
   "metadata": {},
   "outputs": [],
   "source": [
    "nlp = spacy.load('en_core_web_sm')"
   ]
  },
  {
   "cell_type": "markdown",
   "id": "3377ab2c",
   "metadata": {},
   "source": [
    "Let's get the text inside and parse it into tokens."
   ]
  },
  {
   "cell_type": "code",
   "execution_count": 3,
   "id": "6229fb3e",
   "metadata": {},
   "outputs": [],
   "source": [
    "doc = nlp(u'Tesla is looking at buying U.S. startup for $6 million')"
   ]
  },
  {
   "cell_type": "markdown",
   "id": "4e1fe8df",
   "metadata": {},
   "source": [
    "Iterating over tokens and getting `.text` attribute from it."
   ]
  },
  {
   "cell_type": "code",
   "execution_count": 4,
   "id": "f8092045",
   "metadata": {},
   "outputs": [
    {
     "name": "stdout",
     "output_type": "stream",
     "text": [
      "Tesla\n",
      "is\n",
      "looking\n",
      "at\n",
      "buying\n",
      "U.S.\n",
      "startup\n",
      "for\n",
      "$\n",
      "6\n",
      "million\n"
     ]
    }
   ],
   "source": [
    "for token in doc:\n",
    "    print(token.text)"
   ]
  },
  {
   "cell_type": "markdown",
   "id": "bd565979",
   "metadata": {},
   "source": [
    "POS or Part of Speech is referring to adverb, a verb, a noun etc."
   ]
  },
  {
   "cell_type": "code",
   "execution_count": 5,
   "id": "26a38e0c",
   "metadata": {},
   "outputs": [
    {
     "name": "stdout",
     "output_type": "stream",
     "text": [
      "Tesla 95\n",
      "is 99\n",
      "looking 99\n",
      "at 84\n",
      "buying 99\n",
      "U.S. 95\n",
      "startup 91\n",
      "for 84\n",
      "$ 98\n",
      "6 92\n",
      "million 92\n"
     ]
    }
   ],
   "source": [
    "for token in doc:\n",
    "    print(token.text, token.pos)"
   ]
  },
  {
   "cell_type": "markdown",
   "id": "9c2fae76",
   "metadata": {},
   "source": [
    "Let's look at the name of the speech part by adding `pos_` instead of `pos`. It is smart enough to understand that 'million' is a number and '$' is a symbol."
   ]
  },
  {
   "cell_type": "code",
   "execution_count": 6,
   "id": "21d88fe0",
   "metadata": {},
   "outputs": [
    {
     "name": "stdout",
     "output_type": "stream",
     "text": [
      "Tesla PROPN\n",
      "is VERB\n",
      "looking VERB\n",
      "at ADP\n",
      "buying VERB\n",
      "U.S. PROPN\n",
      "startup NOUN\n",
      "for ADP\n",
      "$ SYM\n",
      "6 NUM\n",
      "million NUM\n"
     ]
    }
   ],
   "source": [
    "for token in doc:\n",
    "    print(token.text, token.pos_)"
   ]
  },
  {
   "cell_type": "markdown",
   "id": "64b5f1da",
   "metadata": {},
   "source": [
    "Let's print the DEP which is referring to syntactic dependency."
   ]
  },
  {
   "cell_type": "code",
   "execution_count": 7,
   "id": "8d18b129",
   "metadata": {},
   "outputs": [
    {
     "name": "stdout",
     "output_type": "stream",
     "text": [
      "Tesla PROPN nsubj\n",
      "is VERB aux\n",
      "looking VERB ROOT\n",
      "at ADP prep\n",
      "buying VERB pcomp\n",
      "U.S. PROPN compound\n",
      "startup NOUN dobj\n",
      "for ADP prep\n",
      "$ SYM quantmod\n",
      "6 NUM compound\n",
      "million NUM pobj\n"
     ]
    }
   ],
   "source": [
    "for token in doc:\n",
    "    print(token.text, token.pos_, token.dep_)"
   ]
  },
  {
   "cell_type": "markdown",
   "id": "40968f60",
   "metadata": {},
   "source": [
    "Let's initiate pipeline. We see that the basic NLP pipeline contains of tagger, parser and ner (named entity recognizer)."
   ]
  },
  {
   "cell_type": "code",
   "execution_count": 8,
   "id": "ebbdd108",
   "metadata": {},
   "outputs": [
    {
     "data": {
      "text/plain": [
       "[('tagger', <spacy.pipeline.Tagger at 0x215f290a7c8>),\n",
       " ('parser', <spacy.pipeline.DependencyParser at 0x215f28f1d68>),\n",
       " ('ner', <spacy.pipeline.EntityRecognizer at 0x215f290d348>)]"
      ]
     },
     "execution_count": 8,
     "metadata": {},
     "output_type": "execute_result"
    }
   ],
   "source": [
    "nlp.pipeline"
   ]
  },
  {
   "cell_type": "code",
   "execution_count": 9,
   "id": "3f571117",
   "metadata": {},
   "outputs": [
    {
     "data": {
      "text/plain": [
       "['tagger', 'parser', 'ner']"
      ]
     },
     "execution_count": 9,
     "metadata": {},
     "output_type": "execute_result"
    }
   ],
   "source": [
    "nlp.pipe_names"
   ]
  },
  {
   "cell_type": "markdown",
   "id": "1138ba81",
   "metadata": {},
   "source": [
    "### Tokenization\n",
    "\n",
    "We split up all the component parst such as words and punctuation into tokens."
   ]
  },
  {
   "cell_type": "code",
   "execution_count": 10,
   "id": "2afa0c8d",
   "metadata": {},
   "outputs": [],
   "source": [
    "doc2 = nlp(u\"Tesla isn't looking into startups anymore.\")"
   ]
  },
  {
   "cell_type": "code",
   "execution_count": 11,
   "id": "e97505fc",
   "metadata": {},
   "outputs": [
    {
     "name": "stdout",
     "output_type": "stream",
     "text": [
      "Tesla PROPN nsubj\n",
      "is VERB aux\n",
      "n't ADV neg\n",
      "looking VERB ROOT\n",
      "into ADP prep\n",
      "startups NOUN pobj\n",
      "anymore ADV advmod\n",
      ". PUNCT punct\n"
     ]
    }
   ],
   "source": [
    "for token in doc2:\n",
    "    print(token.text, token.pos_, token.dep_)"
   ]
  },
  {
   "cell_type": "markdown",
   "id": "7c6334cf",
   "metadata": {},
   "source": [
    "We can add more spaces and it will become token"
   ]
  },
  {
   "cell_type": "code",
   "execution_count": 12,
   "id": "7700f933",
   "metadata": {},
   "outputs": [],
   "source": [
    "doc2 = nlp(u\"Tesla isn't     looking into startups anymore.\")"
   ]
  },
  {
   "cell_type": "code",
   "execution_count": 13,
   "id": "17ecba59",
   "metadata": {},
   "outputs": [
    {
     "name": "stdout",
     "output_type": "stream",
     "text": [
      "Tesla PROPN nsubj\n",
      "is VERB aux\n",
      "n't ADV neg\n",
      "     SPACE \n",
      "looking VERB ROOT\n",
      "into ADP prep\n",
      "startups NOUN pobj\n",
      "anymore ADV advmod\n",
      ". PUNCT punct\n"
     ]
    }
   ],
   "source": [
    "for token in doc2:\n",
    "    print(token.text, token.pos_, token.dep_)"
   ]
  },
  {
   "cell_type": "markdown",
   "id": "f8aa5172",
   "metadata": {},
   "source": [
    "We can use indexing to grab tokens individually."
   ]
  },
  {
   "cell_type": "code",
   "execution_count": 14,
   "id": "c20738d9",
   "metadata": {},
   "outputs": [
    {
     "data": {
      "text/plain": [
       "(Tesla, 'PROPN', 'nsubj')"
      ]
     },
     "execution_count": 14,
     "metadata": {},
     "output_type": "execute_result"
    }
   ],
   "source": [
    "doc2[0], doc2[0].pos_, doc2[0].dep_"
   ]
  },
  {
   "cell_type": "markdown",
   "id": "1ee521ee",
   "metadata": {},
   "source": [
    "___\n",
    "## Spans\n",
    "\n",
    "Large Doc objects can be hard to work with at times. A **span** is a slice of Doc object in the form `Doc[start:stop]`."
   ]
  },
  {
   "cell_type": "code",
   "execution_count": 15,
   "id": "fce897b1",
   "metadata": {},
   "outputs": [],
   "source": [
    "doc3 = nlp(u'Although commmonly attributed to John Lennon from his song \"Beautiful Boy\", \\\n",
    "the phrase \"Life is what happens to us while we are making other plans\" was written by \\\n",
    "cartoonist Allen Saunders and published in Reader\\'s Digest in 1957, when Lennon was 17.')"
   ]
  },
  {
   "cell_type": "code",
   "execution_count": 16,
   "id": "31c7c0b2",
   "metadata": {},
   "outputs": [],
   "source": [
    "life_quote = doc3[16:30]"
   ]
  },
  {
   "cell_type": "code",
   "execution_count": 17,
   "id": "fd0680c9",
   "metadata": {},
   "outputs": [
    {
     "name": "stdout",
     "output_type": "stream",
     "text": [
      "\"Life is what happens to us while we are making other plans\"\n"
     ]
    }
   ],
   "source": [
    "print(life_quote)"
   ]
  },
  {
   "cell_type": "markdown",
   "id": "7ef7ad68",
   "metadata": {},
   "source": [
    "SpaCy understands that `life_quote` is a span object. Meaning it's a slice of a larger document."
   ]
  },
  {
   "cell_type": "code",
   "execution_count": 18,
   "id": "a4c6905a",
   "metadata": {},
   "outputs": [
    {
     "data": {
      "text/plain": [
       "spacy.tokens.span.Span"
      ]
     },
     "execution_count": 18,
     "metadata": {},
     "output_type": "execute_result"
    }
   ],
   "source": [
    "type(life_quote)"
   ]
  },
  {
   "cell_type": "code",
   "execution_count": 19,
   "id": "4a616375",
   "metadata": {},
   "outputs": [
    {
     "data": {
      "text/plain": [
       "spacy.tokens.doc.Doc"
      ]
     },
     "execution_count": 19,
     "metadata": {},
     "output_type": "execute_result"
    }
   ],
   "source": [
    "type(doc3)"
   ]
  },
  {
   "cell_type": "markdown",
   "id": "3eef9b9d",
   "metadata": {},
   "source": [
    "Let's perform segmentation. Spacy automatically understands that string contains of sentences."
   ]
  },
  {
   "cell_type": "code",
   "execution_count": 20,
   "id": "5681251c",
   "metadata": {},
   "outputs": [],
   "source": [
    "doc4 = nlp(u\"This is the first sentence. This is another sentence. This is the last sentence.\")"
   ]
  },
  {
   "cell_type": "code",
   "execution_count": 21,
   "id": "5d43f434",
   "metadata": {},
   "outputs": [
    {
     "name": "stdout",
     "output_type": "stream",
     "text": [
      "This is the first sentence.\n",
      "This is another sentence.\n",
      "This is the last sentence.\n"
     ]
    }
   ],
   "source": [
    "for sentence in doc4.sents:\n",
    "    print(sentence)"
   ]
  },
  {
   "cell_type": "markdown",
   "id": "43e2508e",
   "metadata": {},
   "source": [
    "Getting information whether the word is a start of a sentence."
   ]
  },
  {
   "cell_type": "code",
   "execution_count": 22,
   "id": "7448e6df",
   "metadata": {},
   "outputs": [
    {
     "data": {
      "text/plain": [
       "(This, True)"
      ]
     },
     "execution_count": 22,
     "metadata": {},
     "output_type": "execute_result"
    }
   ],
   "source": [
    "doc4[6], doc4[6].is_sent_start"
   ]
  },
  {
   "cell_type": "code",
   "execution_count": 23,
   "id": "b2bfa54c",
   "metadata": {},
   "outputs": [
    {
     "data": {
      "text/plain": [
       "(another, None)"
      ]
     },
     "execution_count": 23,
     "metadata": {},
     "output_type": "execute_result"
    }
   ],
   "source": [
    "doc4[8], doc4[8].is_sent_start"
   ]
  },
  {
   "cell_type": "markdown",
   "id": "b42582c6",
   "metadata": {},
   "source": [
    "# Tokenization\n",
    "\n",
    "Toeknization is the process of breaking up the original text into component pieces (tokens).\n",
    "This is initial step when we create our document object using spaCy.\n",
    "- Notice that tokens are pieces of the original text\n",
    "- We don't see any conversion to word stems or lemmase (base forms of words) and we haven't seen anything about oranizations/places/money etc. This will be named entity recognition.\n",
    "___\n",
    "\n",
    "- **Prefix**: Caracter(s) at the beginning\n",
    "- **Suffix**: Caracter(s) at the end\n",
    "- **Infix**: Caracter(s) in between\n",
    "- **Exception**: Special-case rule to split a sting into several tokens or prevent a token form being split when punctuation rules applied"
   ]
  },
  {
   "cell_type": "code",
   "execution_count": 24,
   "id": "9027a32b",
   "metadata": {},
   "outputs": [],
   "source": [
    "import spacy\n",
    "nlp = spacy.load('en_core_web_sm')"
   ]
  },
  {
   "cell_type": "code",
   "execution_count": 33,
   "id": "4c9cd3ab",
   "metadata": {},
   "outputs": [
    {
     "name": "stdout",
     "output_type": "stream",
     "text": [
      "\"We're moving to L.A.!\"\n"
     ]
    }
   ],
   "source": [
    "mystring = '\"We\\'re moving to L.A.!\"'\n",
    "print(mystring)"
   ]
  },
  {
   "cell_type": "code",
   "execution_count": 35,
   "id": "d6c470d1",
   "metadata": {},
   "outputs": [],
   "source": [
    "doc = nlp(mystring)"
   ]
  },
  {
   "cell_type": "markdown",
   "id": "c3d278f1",
   "metadata": {},
   "source": [
    "We're able to capture double quates, the `'re` and `L.A.` and we have an exclamation mark"
   ]
  },
  {
   "cell_type": "code",
   "execution_count": 36,
   "id": "96fff38a",
   "metadata": {},
   "outputs": [
    {
     "name": "stdout",
     "output_type": "stream",
     "text": [
      "\"\n",
      "We\n",
      "'re\n",
      "moving\n",
      "to\n",
      "L.A.\n",
      "!\n",
      "\"\n"
     ]
    }
   ],
   "source": [
    "for token in doc:\n",
    "    print(token.text)"
   ]
  },
  {
   "cell_type": "markdown",
   "id": "8c17c1ce",
   "metadata": {},
   "source": [
    "Let's try out more complex string. We have a lot of punctuation, we have dot-tier and dots in the website."
   ]
  },
  {
   "cell_type": "code",
   "execution_count": 37,
   "id": "2cd448ad",
   "metadata": {},
   "outputs": [],
   "source": [
    "doc2 = nlp(u\"We're here to help! Send snail-mail, email support@oursite.com or visit us at https://www.oursite.com!\")"
   ]
  },
  {
   "cell_type": "code",
   "execution_count": 39,
   "id": "a61090c5",
   "metadata": {},
   "outputs": [
    {
     "name": "stdout",
     "output_type": "stream",
     "text": [
      "We\n",
      "'re\n",
      "here\n",
      "to\n",
      "help\n",
      "!\n",
      "Send\n",
      "snail\n",
      "-\n",
      "mail\n",
      ",\n",
      "email\n",
      "support@oursite.com\n",
      "or\n",
      "visit\n",
      "us\n",
      "at\n",
      "https://www.oursite.com\n",
      "!\n"
     ]
    }
   ],
   "source": [
    "for t in doc2:\n",
    "    print(t)"
   ]
  },
  {
   "cell_type": "markdown",
   "id": "f62af320",
   "metadata": {},
   "source": [
    "We see that `-` have assigned its own token. This happens because spaCy have it's own internal rules on what should be tokenized and what is not."
   ]
  },
  {
   "cell_type": "code",
   "execution_count": 41,
   "id": "ef16df5d",
   "metadata": {},
   "outputs": [],
   "source": [
    "doc3 = nlp(u\"A 5km NYC cab ride costs $10.30\")"
   ]
  },
  {
   "cell_type": "code",
   "execution_count": 42,
   "id": "aee05a4b",
   "metadata": {},
   "outputs": [
    {
     "name": "stdout",
     "output_type": "stream",
     "text": [
      "A\n",
      "5\n",
      "km\n",
      "NYC\n",
      "cab\n",
      "ride\n",
      "costs\n",
      "$\n",
      "10.30\n"
     ]
    }
   ],
   "source": [
    "for t in doc3:\n",
    "    print(t)"
   ]
  },
  {
   "cell_type": "code",
   "execution_count": 43,
   "id": "ae669491",
   "metadata": {},
   "outputs": [],
   "source": [
    "doc4 = nlp(u\"Let's visit St. Luis in the U.S. next year.\")"
   ]
  },
  {
   "cell_type": "code",
   "execution_count": 44,
   "id": "a7a8ade9",
   "metadata": {},
   "outputs": [
    {
     "name": "stdout",
     "output_type": "stream",
     "text": [
      "Let\n",
      "'s\n",
      "visit\n",
      "St.\n",
      "Luis\n",
      "in\n",
      "the\n",
      "U.S.\n",
      "next\n",
      "year\n",
      ".\n"
     ]
    }
   ],
   "source": [
    "for t in doc4:\n",
    "    print(t)"
   ]
  },
  {
   "cell_type": "markdown",
   "id": "973c4582",
   "metadata": {},
   "source": [
    "Let's check how many tokens we have in the `doc4`"
   ]
  },
  {
   "cell_type": "code",
   "execution_count": 45,
   "id": "0d07524b",
   "metadata": {},
   "outputs": [
    {
     "data": {
      "text/plain": [
       "11"
      ]
     },
     "execution_count": 45,
     "metadata": {},
     "output_type": "execute_result"
    }
   ],
   "source": [
    "len(doc4)"
   ]
  },
  {
   "cell_type": "markdown",
   "id": "a08176fa",
   "metadata": {},
   "source": [
    "We can also count vocab entry. Vocab objects contain a full library of items. "
   ]
  },
  {
   "cell_type": "code",
   "execution_count": 46,
   "id": "7153f544",
   "metadata": {},
   "outputs": [
    {
     "data": {
      "text/plain": [
       "<spacy.vocab.Vocab at 0x215f27e88c8>"
      ]
     },
     "execution_count": 46,
     "metadata": {},
     "output_type": "execute_result"
    }
   ],
   "source": [
    "doc4.vocab"
   ]
  },
  {
   "cell_type": "markdown",
   "id": "3d763844",
   "metadata": {},
   "source": [
    "The length of `vocab` highlights how many tokens we have in pre loaded library which is `en_core_web_sm`. Where `sm` stands for \"small\""
   ]
  },
  {
   "cell_type": "code",
   "execution_count": 47,
   "id": "40b130ea",
   "metadata": {},
   "outputs": [
    {
     "data": {
      "text/plain": [
       "57852"
      ]
     },
     "execution_count": 47,
     "metadata": {},
     "output_type": "execute_result"
    }
   ],
   "source": [
    "len(doc4.vocab)"
   ]
  },
  {
   "cell_type": "markdown",
   "id": "19510842",
   "metadata": {},
   "source": [
    "We can slice over tokens"
   ]
  },
  {
   "cell_type": "code",
   "execution_count": 48,
   "id": "cbef501a",
   "metadata": {},
   "outputs": [],
   "source": [
    "doc5 = nlp(u\"It is better to give than recieve.\")"
   ]
  },
  {
   "cell_type": "code",
   "execution_count": 49,
   "id": "5a0c581e",
   "metadata": {},
   "outputs": [
    {
     "data": {
      "text/plain": [
       "It"
      ]
     },
     "execution_count": 49,
     "metadata": {},
     "output_type": "execute_result"
    }
   ],
   "source": [
    "doc5[0]"
   ]
  },
  {
   "cell_type": "code",
   "execution_count": 50,
   "id": "b59106a6",
   "metadata": {},
   "outputs": [
    {
     "data": {
      "text/plain": [
       "better to give"
      ]
     },
     "execution_count": 50,
     "metadata": {},
     "output_type": "execute_result"
    }
   ],
   "source": [
    "doc5[2:5]"
   ]
  },
  {
   "cell_type": "markdown",
   "id": "41de47be",
   "metadata": {},
   "source": [
    "Tokens cannot be reassigned. Although document objects can be considered lists of tokens they do not support item re-assignment."
   ]
  },
  {
   "cell_type": "markdown",
   "id": "0823a7ec",
   "metadata": {},
   "source": [
    "SpaCy can also understand named entities. Named entites add another layer of context. The language model that you load in at very top recognizes that certain words are organization names while others are locations. Named entities accessible through the `ents` property of a document object."
   ]
  },
  {
   "cell_type": "code",
   "execution_count": 51,
   "id": "441f3d0d",
   "metadata": {},
   "outputs": [],
   "source": [
    "doc8 = nlp(u\"Apple to build a Hong Kong factory for $6 million\")"
   ]
  },
  {
   "cell_type": "code",
   "execution_count": 52,
   "id": "ba46eae5",
   "metadata": {},
   "outputs": [
    {
     "name": "stdout",
     "output_type": "stream",
     "text": [
      "Apple  |  to  |  build  |  a  |  Hong  |  Kong  |  factory  |  for  |  $  |  6  |  million  |  "
     ]
    }
   ],
   "source": [
    "for token in doc8:\n",
    "    print(token.text, end=\"  |  \")"
   ]
  },
  {
   "cell_type": "markdown",
   "id": "1fd1e9cc",
   "metadata": {},
   "source": [
    "As we may see spaCy understands that there's something special in words \"Apple\", \"Hong Kong\" and \"$6 million\". Those are named entities."
   ]
  },
  {
   "cell_type": "code",
   "execution_count": 53,
   "id": "0ed2188a",
   "metadata": {},
   "outputs": [
    {
     "name": "stdout",
     "output_type": "stream",
     "text": [
      "Apple\n",
      "Hong Kong\n",
      "$6 million\n"
     ]
    }
   ],
   "source": [
    "for entity in doc8.ents:\n",
    "    print(entity)"
   ]
  },
  {
   "cell_type": "code",
   "execution_count": 54,
   "id": "7c29bd51",
   "metadata": {},
   "outputs": [
    {
     "name": "stdout",
     "output_type": "stream",
     "text": [
      "Apple\n",
      "ORG\n",
      "\n",
      "Hong Kong\n",
      "GPE\n",
      "\n",
      "$6 million\n",
      "MONEY\n",
      "\n"
     ]
    }
   ],
   "source": [
    "for entity in doc8.ents:\n",
    "    print(entity)\n",
    "    print(entity.label_)\n",
    "    print()"
   ]
  },
  {
   "cell_type": "code",
   "execution_count": 57,
   "id": "12023e25",
   "metadata": {},
   "outputs": [
    {
     "name": "stdout",
     "output_type": "stream",
     "text": [
      "Apple\n",
      "ORG\n",
      "Companies, agencies, institutions, etc.\n",
      "\n",
      "Hong Kong\n",
      "GPE\n",
      "Countries, cities, states\n",
      "\n",
      "$6 million\n",
      "MONEY\n",
      "Monetary values, including unit\n",
      "\n"
     ]
    }
   ],
   "source": [
    "for entity in doc8.ents:\n",
    "    print(entity)\n",
    "    print(entity.label_)\n",
    "    print(str(spacy.explain(entity.label_)))\n",
    "    print()"
   ]
  },
  {
   "cell_type": "markdown",
   "id": "bdaaece1",
   "metadata": {},
   "source": [
    "Similar to `ents` we have noun chunks which are another object property. Noun chunks are base noun phrases. Essentially flat phrases that have a noun as their head. You can think of a noun chung as a noun plus the words describing that particular noun."
   ]
  },
  {
   "cell_type": "code",
   "execution_count": 61,
   "id": "9dfcee31",
   "metadata": {},
   "outputs": [],
   "source": [
    "doc9 = nlp(u\"Autonomous cars shift insurance liability toward manufacturers.\")"
   ]
  },
  {
   "cell_type": "markdown",
   "id": "02a4fcb4",
   "metadata": {},
   "source": [
    "Here we have 3 noun chunks: \"Autonomous cars\", \"insurance liability\" and \"manufacturers\"."
   ]
  },
  {
   "cell_type": "code",
   "execution_count": 62,
   "id": "6867f50f",
   "metadata": {},
   "outputs": [
    {
     "name": "stdout",
     "output_type": "stream",
     "text": [
      "Autonomous cars\n",
      "insurance liability\n",
      "manufacturers\n"
     ]
    }
   ],
   "source": [
    "for chunk in doc9.noun_chunks:\n",
    "    print(chunk)"
   ]
  },
  {
   "cell_type": "markdown",
   "id": "4a62614e",
   "metadata": {},
   "source": [
    "## Visualization with spaCy\n",
    "\n",
    "`displacy` is a built-in visualizer."
   ]
  },
  {
   "cell_type": "code",
   "execution_count": 63,
   "id": "bc089802",
   "metadata": {},
   "outputs": [],
   "source": [
    "from spacy import displacy"
   ]
  },
  {
   "cell_type": "code",
   "execution_count": 64,
   "id": "d58fcc90",
   "metadata": {},
   "outputs": [],
   "source": [
    "doc = nlp(u\"Apple is going to build a U.K. factory for $6 million.\")"
   ]
  },
  {
   "cell_type": "code",
   "execution_count": 67,
   "id": "72634656",
   "metadata": {},
   "outputs": [
    {
     "data": {
      "text/html": [
       "<svg xmlns=\"http://www.w3.org/2000/svg\" xmlns:xlink=\"http://www.w3.org/1999/xlink\" id=\"0\" class=\"displacy\" width=\"1370\" height=\"357.0\" style=\"max-width: none; height: 357.0px; color: #000000; background: #ffffff; font-family: Arial\">\n",
       "<text class=\"displacy-token\" fill=\"currentColor\" text-anchor=\"middle\" y=\"267.0\">\n",
       "    <tspan class=\"displacy-word\" fill=\"currentColor\" x=\"50\">Apple</tspan>\n",
       "    <tspan class=\"displacy-tag\" dy=\"2em\" fill=\"currentColor\" x=\"50\">PROPN</tspan>\n",
       "</text>\n",
       "\n",
       "<text class=\"displacy-token\" fill=\"currentColor\" text-anchor=\"middle\" y=\"267.0\">\n",
       "    <tspan class=\"displacy-word\" fill=\"currentColor\" x=\"160\">is</tspan>\n",
       "    <tspan class=\"displacy-tag\" dy=\"2em\" fill=\"currentColor\" x=\"160\">VERB</tspan>\n",
       "</text>\n",
       "\n",
       "<text class=\"displacy-token\" fill=\"currentColor\" text-anchor=\"middle\" y=\"267.0\">\n",
       "    <tspan class=\"displacy-word\" fill=\"currentColor\" x=\"270\">going</tspan>\n",
       "    <tspan class=\"displacy-tag\" dy=\"2em\" fill=\"currentColor\" x=\"270\">VERB</tspan>\n",
       "</text>\n",
       "\n",
       "<text class=\"displacy-token\" fill=\"currentColor\" text-anchor=\"middle\" y=\"267.0\">\n",
       "    <tspan class=\"displacy-word\" fill=\"currentColor\" x=\"380\">to</tspan>\n",
       "    <tspan class=\"displacy-tag\" dy=\"2em\" fill=\"currentColor\" x=\"380\">PART</tspan>\n",
       "</text>\n",
       "\n",
       "<text class=\"displacy-token\" fill=\"currentColor\" text-anchor=\"middle\" y=\"267.0\">\n",
       "    <tspan class=\"displacy-word\" fill=\"currentColor\" x=\"490\">build</tspan>\n",
       "    <tspan class=\"displacy-tag\" dy=\"2em\" fill=\"currentColor\" x=\"490\">VERB</tspan>\n",
       "</text>\n",
       "\n",
       "<text class=\"displacy-token\" fill=\"currentColor\" text-anchor=\"middle\" y=\"267.0\">\n",
       "    <tspan class=\"displacy-word\" fill=\"currentColor\" x=\"600\">a</tspan>\n",
       "    <tspan class=\"displacy-tag\" dy=\"2em\" fill=\"currentColor\" x=\"600\">DET</tspan>\n",
       "</text>\n",
       "\n",
       "<text class=\"displacy-token\" fill=\"currentColor\" text-anchor=\"middle\" y=\"267.0\">\n",
       "    <tspan class=\"displacy-word\" fill=\"currentColor\" x=\"710\">U.K.</tspan>\n",
       "    <tspan class=\"displacy-tag\" dy=\"2em\" fill=\"currentColor\" x=\"710\">PROPN</tspan>\n",
       "</text>\n",
       "\n",
       "<text class=\"displacy-token\" fill=\"currentColor\" text-anchor=\"middle\" y=\"267.0\">\n",
       "    <tspan class=\"displacy-word\" fill=\"currentColor\" x=\"820\">factory</tspan>\n",
       "    <tspan class=\"displacy-tag\" dy=\"2em\" fill=\"currentColor\" x=\"820\">NOUN</tspan>\n",
       "</text>\n",
       "\n",
       "<text class=\"displacy-token\" fill=\"currentColor\" text-anchor=\"middle\" y=\"267.0\">\n",
       "    <tspan class=\"displacy-word\" fill=\"currentColor\" x=\"930\">for</tspan>\n",
       "    <tspan class=\"displacy-tag\" dy=\"2em\" fill=\"currentColor\" x=\"930\">ADP</tspan>\n",
       "</text>\n",
       "\n",
       "<text class=\"displacy-token\" fill=\"currentColor\" text-anchor=\"middle\" y=\"267.0\">\n",
       "    <tspan class=\"displacy-word\" fill=\"currentColor\" x=\"1040\">$</tspan>\n",
       "    <tspan class=\"displacy-tag\" dy=\"2em\" fill=\"currentColor\" x=\"1040\">SYM</tspan>\n",
       "</text>\n",
       "\n",
       "<text class=\"displacy-token\" fill=\"currentColor\" text-anchor=\"middle\" y=\"267.0\">\n",
       "    <tspan class=\"displacy-word\" fill=\"currentColor\" x=\"1150\">6</tspan>\n",
       "    <tspan class=\"displacy-tag\" dy=\"2em\" fill=\"currentColor\" x=\"1150\">NUM</tspan>\n",
       "</text>\n",
       "\n",
       "<text class=\"displacy-token\" fill=\"currentColor\" text-anchor=\"middle\" y=\"267.0\">\n",
       "    <tspan class=\"displacy-word\" fill=\"currentColor\" x=\"1260\">million.</tspan>\n",
       "    <tspan class=\"displacy-tag\" dy=\"2em\" fill=\"currentColor\" x=\"1260\">NUM</tspan>\n",
       "</text>\n",
       "\n",
       "<g class=\"displacy-arrow\">\n",
       "    <path class=\"displacy-arc\" id=\"arrow-0-0\" stroke-width=\"2px\" d=\"M70,222.0 C70,112.0 260.0,112.0 260.0,222.0\" fill=\"none\" stroke=\"currentColor\"/>\n",
       "    <text dy=\"1.25em\" style=\"font-size: 0.8em; letter-spacing: 1px\">\n",
       "        <textPath xlink:href=\"#arrow-0-0\" class=\"displacy-label\" startOffset=\"50%\" fill=\"currentColor\" text-anchor=\"middle\">nsubj</textPath>\n",
       "    </text>\n",
       "    <path class=\"displacy-arrowhead\" d=\"M70,224.0 L62,212.0 78,212.0\" fill=\"currentColor\"/>\n",
       "</g>\n",
       "\n",
       "<g class=\"displacy-arrow\">\n",
       "    <path class=\"displacy-arc\" id=\"arrow-0-1\" stroke-width=\"2px\" d=\"M180,222.0 C180,167.0 255.0,167.0 255.0,222.0\" fill=\"none\" stroke=\"currentColor\"/>\n",
       "    <text dy=\"1.25em\" style=\"font-size: 0.8em; letter-spacing: 1px\">\n",
       "        <textPath xlink:href=\"#arrow-0-1\" class=\"displacy-label\" startOffset=\"50%\" fill=\"currentColor\" text-anchor=\"middle\">aux</textPath>\n",
       "    </text>\n",
       "    <path class=\"displacy-arrowhead\" d=\"M180,224.0 L172,212.0 188,212.0\" fill=\"currentColor\"/>\n",
       "</g>\n",
       "\n",
       "<g class=\"displacy-arrow\">\n",
       "    <path class=\"displacy-arc\" id=\"arrow-0-2\" stroke-width=\"2px\" d=\"M400,222.0 C400,167.0 475.0,167.0 475.0,222.0\" fill=\"none\" stroke=\"currentColor\"/>\n",
       "    <text dy=\"1.25em\" style=\"font-size: 0.8em; letter-spacing: 1px\">\n",
       "        <textPath xlink:href=\"#arrow-0-2\" class=\"displacy-label\" startOffset=\"50%\" fill=\"currentColor\" text-anchor=\"middle\">aux</textPath>\n",
       "    </text>\n",
       "    <path class=\"displacy-arrowhead\" d=\"M400,224.0 L392,212.0 408,212.0\" fill=\"currentColor\"/>\n",
       "</g>\n",
       "\n",
       "<g class=\"displacy-arrow\">\n",
       "    <path class=\"displacy-arc\" id=\"arrow-0-3\" stroke-width=\"2px\" d=\"M290,222.0 C290,112.0 480.0,112.0 480.0,222.0\" fill=\"none\" stroke=\"currentColor\"/>\n",
       "    <text dy=\"1.25em\" style=\"font-size: 0.8em; letter-spacing: 1px\">\n",
       "        <textPath xlink:href=\"#arrow-0-3\" class=\"displacy-label\" startOffset=\"50%\" fill=\"currentColor\" text-anchor=\"middle\">xcomp</textPath>\n",
       "    </text>\n",
       "    <path class=\"displacy-arrowhead\" d=\"M480.0,224.0 L488.0,212.0 472.0,212.0\" fill=\"currentColor\"/>\n",
       "</g>\n",
       "\n",
       "<g class=\"displacy-arrow\">\n",
       "    <path class=\"displacy-arc\" id=\"arrow-0-4\" stroke-width=\"2px\" d=\"M620,222.0 C620,112.0 810.0,112.0 810.0,222.0\" fill=\"none\" stroke=\"currentColor\"/>\n",
       "    <text dy=\"1.25em\" style=\"font-size: 0.8em; letter-spacing: 1px\">\n",
       "        <textPath xlink:href=\"#arrow-0-4\" class=\"displacy-label\" startOffset=\"50%\" fill=\"currentColor\" text-anchor=\"middle\">det</textPath>\n",
       "    </text>\n",
       "    <path class=\"displacy-arrowhead\" d=\"M620,224.0 L612,212.0 628,212.0\" fill=\"currentColor\"/>\n",
       "</g>\n",
       "\n",
       "<g class=\"displacy-arrow\">\n",
       "    <path class=\"displacy-arc\" id=\"arrow-0-5\" stroke-width=\"2px\" d=\"M730,222.0 C730,167.0 805.0,167.0 805.0,222.0\" fill=\"none\" stroke=\"currentColor\"/>\n",
       "    <text dy=\"1.25em\" style=\"font-size: 0.8em; letter-spacing: 1px\">\n",
       "        <textPath xlink:href=\"#arrow-0-5\" class=\"displacy-label\" startOffset=\"50%\" fill=\"currentColor\" text-anchor=\"middle\">compound</textPath>\n",
       "    </text>\n",
       "    <path class=\"displacy-arrowhead\" d=\"M730,224.0 L722,212.0 738,212.0\" fill=\"currentColor\"/>\n",
       "</g>\n",
       "\n",
       "<g class=\"displacy-arrow\">\n",
       "    <path class=\"displacy-arc\" id=\"arrow-0-6\" stroke-width=\"2px\" d=\"M510,222.0 C510,57.0 815.0,57.0 815.0,222.0\" fill=\"none\" stroke=\"currentColor\"/>\n",
       "    <text dy=\"1.25em\" style=\"font-size: 0.8em; letter-spacing: 1px\">\n",
       "        <textPath xlink:href=\"#arrow-0-6\" class=\"displacy-label\" startOffset=\"50%\" fill=\"currentColor\" text-anchor=\"middle\">dobj</textPath>\n",
       "    </text>\n",
       "    <path class=\"displacy-arrowhead\" d=\"M815.0,224.0 L823.0,212.0 807.0,212.0\" fill=\"currentColor\"/>\n",
       "</g>\n",
       "\n",
       "<g class=\"displacy-arrow\">\n",
       "    <path class=\"displacy-arc\" id=\"arrow-0-7\" stroke-width=\"2px\" d=\"M510,222.0 C510,2.0 930.0,2.0 930.0,222.0\" fill=\"none\" stroke=\"currentColor\"/>\n",
       "    <text dy=\"1.25em\" style=\"font-size: 0.8em; letter-spacing: 1px\">\n",
       "        <textPath xlink:href=\"#arrow-0-7\" class=\"displacy-label\" startOffset=\"50%\" fill=\"currentColor\" text-anchor=\"middle\">prep</textPath>\n",
       "    </text>\n",
       "    <path class=\"displacy-arrowhead\" d=\"M930.0,224.0 L938.0,212.0 922.0,212.0\" fill=\"currentColor\"/>\n",
       "</g>\n",
       "\n",
       "<g class=\"displacy-arrow\">\n",
       "    <path class=\"displacy-arc\" id=\"arrow-0-8\" stroke-width=\"2px\" d=\"M1060,222.0 C1060,112.0 1250.0,112.0 1250.0,222.0\" fill=\"none\" stroke=\"currentColor\"/>\n",
       "    <text dy=\"1.25em\" style=\"font-size: 0.8em; letter-spacing: 1px\">\n",
       "        <textPath xlink:href=\"#arrow-0-8\" class=\"displacy-label\" startOffset=\"50%\" fill=\"currentColor\" text-anchor=\"middle\">quantmod</textPath>\n",
       "    </text>\n",
       "    <path class=\"displacy-arrowhead\" d=\"M1060,224.0 L1052,212.0 1068,212.0\" fill=\"currentColor\"/>\n",
       "</g>\n",
       "\n",
       "<g class=\"displacy-arrow\">\n",
       "    <path class=\"displacy-arc\" id=\"arrow-0-9\" stroke-width=\"2px\" d=\"M1170,222.0 C1170,167.0 1245.0,167.0 1245.0,222.0\" fill=\"none\" stroke=\"currentColor\"/>\n",
       "    <text dy=\"1.25em\" style=\"font-size: 0.8em; letter-spacing: 1px\">\n",
       "        <textPath xlink:href=\"#arrow-0-9\" class=\"displacy-label\" startOffset=\"50%\" fill=\"currentColor\" text-anchor=\"middle\">compound</textPath>\n",
       "    </text>\n",
       "    <path class=\"displacy-arrowhead\" d=\"M1170,224.0 L1162,212.0 1178,212.0\" fill=\"currentColor\"/>\n",
       "</g>\n",
       "\n",
       "<g class=\"displacy-arrow\">\n",
       "    <path class=\"displacy-arc\" id=\"arrow-0-10\" stroke-width=\"2px\" d=\"M950,222.0 C950,57.0 1255.0,57.0 1255.0,222.0\" fill=\"none\" stroke=\"currentColor\"/>\n",
       "    <text dy=\"1.25em\" style=\"font-size: 0.8em; letter-spacing: 1px\">\n",
       "        <textPath xlink:href=\"#arrow-0-10\" class=\"displacy-label\" startOffset=\"50%\" fill=\"currentColor\" text-anchor=\"middle\">pobj</textPath>\n",
       "    </text>\n",
       "    <path class=\"displacy-arrowhead\" d=\"M1255.0,224.0 L1263.0,212.0 1247.0,212.0\" fill=\"currentColor\"/>\n",
       "</g>\n",
       "</svg>"
      ],
      "text/plain": [
       "<IPython.core.display.HTML object>"
      ]
     },
     "metadata": {},
     "output_type": "display_data"
    }
   ],
   "source": [
    "displacy.render(doc, style='dep', jupyter=True, options={'distance': 110})"
   ]
  },
  {
   "cell_type": "markdown",
   "id": "9373687c",
   "metadata": {},
   "source": [
    "We can also visualize entitiy recognizer."
   ]
  },
  {
   "cell_type": "code",
   "execution_count": 68,
   "id": "673562dd",
   "metadata": {},
   "outputs": [],
   "source": [
    "doc = nlp(u\"Over the last quarter Apple sold nearly 20 thousand iPods for a profit of $6 million.\")"
   ]
  },
  {
   "cell_type": "markdown",
   "id": "7da962c8",
   "metadata": {},
   "source": [
    "We can see highlighted date, org, cardinal, product and money."
   ]
  },
  {
   "cell_type": "code",
   "execution_count": 70,
   "id": "94e3753b",
   "metadata": {},
   "outputs": [
    {
     "data": {
      "text/html": [
       "<div class=\"entities\" style=\"line-height: 2.5\">Over \n",
       "<mark class=\"entity\" style=\"background: #bfe1d9; padding: 0.45em 0.6em; margin: 0 0.25em; line-height: 1; border-radius: 0.35em; box-decoration-break: clone; -webkit-box-decoration-break: clone\">\n",
       "    the last quarter\n",
       "    <span style=\"font-size: 0.8em; font-weight: bold; line-height: 1; border-radius: 0.35em; text-transform: uppercase; vertical-align: middle; margin-left: 0.5rem\">DATE</span>\n",
       "</mark>\n",
       " \n",
       "<mark class=\"entity\" style=\"background: #7aecec; padding: 0.45em 0.6em; margin: 0 0.25em; line-height: 1; border-radius: 0.35em; box-decoration-break: clone; -webkit-box-decoration-break: clone\">\n",
       "    Apple\n",
       "    <span style=\"font-size: 0.8em; font-weight: bold; line-height: 1; border-radius: 0.35em; text-transform: uppercase; vertical-align: middle; margin-left: 0.5rem\">ORG</span>\n",
       "</mark>\n",
       " sold \n",
       "<mark class=\"entity\" style=\"background: #e4e7d2; padding: 0.45em 0.6em; margin: 0 0.25em; line-height: 1; border-radius: 0.35em; box-decoration-break: clone; -webkit-box-decoration-break: clone\">\n",
       "    nearly 20 thousand\n",
       "    <span style=\"font-size: 0.8em; font-weight: bold; line-height: 1; border-radius: 0.35em; text-transform: uppercase; vertical-align: middle; margin-left: 0.5rem\">CARDINAL</span>\n",
       "</mark>\n",
       " \n",
       "<mark class=\"entity\" style=\"background: #bfeeb7; padding: 0.45em 0.6em; margin: 0 0.25em; line-height: 1; border-radius: 0.35em; box-decoration-break: clone; -webkit-box-decoration-break: clone\">\n",
       "    iPods\n",
       "    <span style=\"font-size: 0.8em; font-weight: bold; line-height: 1; border-radius: 0.35em; text-transform: uppercase; vertical-align: middle; margin-left: 0.5rem\">PRODUCT</span>\n",
       "</mark>\n",
       " for a profit of \n",
       "<mark class=\"entity\" style=\"background: #e4e7d2; padding: 0.45em 0.6em; margin: 0 0.25em; line-height: 1; border-radius: 0.35em; box-decoration-break: clone; -webkit-box-decoration-break: clone\">\n",
       "    $6 million\n",
       "    <span style=\"font-size: 0.8em; font-weight: bold; line-height: 1; border-radius: 0.35em; text-transform: uppercase; vertical-align: middle; margin-left: 0.5rem\">MONEY</span>\n",
       "</mark>\n",
       ".</div>"
      ],
      "text/plain": [
       "<IPython.core.display.HTML object>"
      ]
     },
     "metadata": {},
     "output_type": "display_data"
    }
   ],
   "source": [
    "displacy.render(doc, style='ent', jupyter=True)"
   ]
  },
  {
   "cell_type": "code",
   "execution_count": 72,
   "id": "c011c312",
   "metadata": {},
   "outputs": [
    {
     "name": "stdout",
     "output_type": "stream",
     "text": [
      "\n",
      "\u001b[93m    Serving on port 5000...\u001b[0m\n",
      "    Using the 'dep' visualizer\n",
      "\n"
     ]
    },
    {
     "name": "stderr",
     "output_type": "stream",
     "text": [
      "127.0.0.1 - - [18/Dec/2023 21:08:22] \"GET / HTTP/1.1\" 200 3057\n",
      "127.0.0.1 - - [18/Dec/2023 21:08:22] \"GET /favicon.ico HTTP/1.1\" 200 3057\n"
     ]
    },
    {
     "name": "stdout",
     "output_type": "stream",
     "text": [
      "\n",
      "    Shutting down server on port 5000.\n",
      "\n"
     ]
    }
   ],
   "source": [
    "doc = nlp(u\"This is a sentence.\")\n",
    "displacy.serve(doc, style='dep')"
   ]
  },
  {
   "attachments": {
    "image.png": {
     "image/png": "[encoded data removed]"
    }
   },
   "cell_type": "markdown",
   "id": "26133874",
   "metadata": {},
   "source": [
    "![image.png](attachment:image.png)"
   ]
  },
  {
   "attachments": {
    "image-2.png": {
     "image/png": "[encoded data removed]"
    },
    "image.png": {
     "image/png": "[encoded data removed]"
    }
   },
   "cell_type": "markdown",
   "id": "04967642",
   "metadata": {},
   "source": [
    "# Stemming\n",
    "\n",
    "Often when searching text for a certain keyword, it helps if the search returns variation of the word. For instance, searching for \"boat\" might also return \"boats\" and \"boating\". Here \"boat\" would be the tem for [boat, boater, boating, boats].\n",
    "\n",
    "Stemming is a somewhat crude method for cataloging related words; it essentially chops off letters from the end until the stem is reached. This works fairly well in most cases, but unfortunately English has many exceptions where more sophisticated process is required.\n",
    "\n",
    "In fact, spaCy does not include a stemmer, opting instead to rely entirely on lemmatization. Because of that I will use `NLTK` and learn more about different Stemmers. Here I will use Porter Stemmer and the Snowball Stemmer.\n",
    "___\n",
    "\n",
    "One of the most common and effective-stemming tools is Porter's Algorithm developed by Martin Porter in 1980. The algorithm employs five phrases of word reduction, each with its own set of mapping rules.\n",
    "\n",
    "In the first phase, simple suffix mapping rules are defined such as:\n",
    "\n",
    "![image.png](attachment:image.png)\n",
    "\n",
    "So you can see here that the ending of one SSES will get reduced to SS or for instance \"caresses\" gets reduced to \"caress\". Or IES gets reduced to I, for instance, \"ponies\" gets reduced to \"poni\".\n",
    "\n",
    "From a given set of stemming rules only rule is applied, based on the longest suffix S1. Thus, \"caresses\" reduces to \"caress\" but not \"cares\" to avoid any confusion.\n",
    "\n",
    "More sophisticated phases consider the length/complexity of the word before applying a rule. For example:\n",
    "\n",
    "![image-2.png](attachment:image-2.png)\n",
    "\n",
    "___\n",
    "\n",
    "Snowball is the name of a stemming language also developed by Martin Porter. The algorithm used here is more accurately called \"English Stemmer\" or \"Porter2 Stemmer\". It offers a slight improvement over the original Porter stemmer, both in logic and speed."
   ]
  },
  {
   "cell_type": "code",
   "execution_count": 73,
   "id": "8d5eef62",
   "metadata": {},
   "outputs": [
    {
     "name": "stderr",
     "output_type": "stream",
     "text": [
      "C:\\Users\\egora\\anaconda3\\envs\\nlp_course_env\\lib\\site-packages\\sklearn\\utils\\validation.py:37: DeprecationWarning: distutils Version classes are deprecated. Use packaging.version instead.\n",
      "  LARGE_SPARSE_SUPPORTED = LooseVersion(scipy_version) >= '0.14.0'\n"
     ]
    }
   ],
   "source": [
    "import nltk"
   ]
  },
  {
   "cell_type": "code",
   "execution_count": 74,
   "id": "c7d9af68",
   "metadata": {},
   "outputs": [],
   "source": [
    "from nltk.stem.porter import PorterStemmer"
   ]
  },
  {
   "cell_type": "code",
   "execution_count": 75,
   "id": "4c5e5696",
   "metadata": {},
   "outputs": [],
   "source": [
    "p_stremmer = PorterStemmer()"
   ]
  },
  {
   "cell_type": "markdown",
   "id": "d2a4d010",
   "metadata": {},
   "source": [
    "Let's create a list of words:"
   ]
  },
  {
   "cell_type": "code",
   "execution_count": 76,
   "id": "fc347c72",
   "metadata": {},
   "outputs": [],
   "source": [
    "words = ['run', 'runner', 'ran', 'runs', 'easily', 'fairly']"
   ]
  },
  {
   "cell_type": "markdown",
   "id": "ea5707ca",
   "metadata": {},
   "source": [
    "They way to stem down these words is to pass them into stemmer."
   ]
  },
  {
   "cell_type": "code",
   "execution_count": 78,
   "id": "0318a900",
   "metadata": {},
   "outputs": [
    {
     "name": "stdout",
     "output_type": "stream",
     "text": [
      "run----->run\n",
      "runner----->runner\n",
      "ran----->ran\n",
      "runs----->run\n",
      "easily----->easili\n",
      "fairly----->fairli\n"
     ]
    }
   ],
   "source": [
    "for word in words:\n",
    "    print(word + '----->' + p_stremmer.stem(word))"
   ]
  },
  {
   "cell_type": "code",
   "execution_count": 79,
   "id": "c0f523a2",
   "metadata": {},
   "outputs": [],
   "source": [
    "from nltk.stem.snowball import SnowballStemmer"
   ]
  },
  {
   "cell_type": "code",
   "execution_count": 80,
   "id": "90df9b13",
   "metadata": {},
   "outputs": [],
   "source": [
    "s_stemmer = SnowballStemmer(language='english')"
   ]
  },
  {
   "cell_type": "code",
   "execution_count": 82,
   "id": "2913be4a",
   "metadata": {},
   "outputs": [],
   "source": [
    "words = ['run', 'runner', 'ran', 'runs', 'easily', 'fairly', 'fairness']"
   ]
  },
  {
   "cell_type": "code",
   "execution_count": 83,
   "id": "56dc4e3e",
   "metadata": {},
   "outputs": [
    {
     "name": "stdout",
     "output_type": "stream",
     "text": [
      "run----->run\n",
      "runner----->runner\n",
      "ran----->ran\n",
      "runs----->run\n",
      "easily----->easili\n",
      "fairly----->fair\n",
      "fairness----->fair\n"
     ]
    }
   ],
   "source": [
    "for word in words:\n",
    "    print(word + '----->' + s_stemmer.stem(word))"
   ]
  },
  {
   "cell_type": "markdown",
   "id": "d205d62e",
   "metadata": {},
   "source": [
    "**The idea is to stem down these words to some sort of root idea or root word.**"
   ]
  },
  {
   "cell_type": "code",
   "execution_count": 84,
   "id": "fffcd280",
   "metadata": {},
   "outputs": [],
   "source": [
    "words = ['generous', 'generation', 'generously', 'generate']"
   ]
  },
  {
   "cell_type": "code",
   "execution_count": 85,
   "id": "a2e900ac",
   "metadata": {},
   "outputs": [
    {
     "name": "stdout",
     "output_type": "stream",
     "text": [
      "generous----->generous\n",
      "generation----->generat\n",
      "generously----->generous\n",
      "generate----->generat\n"
     ]
    }
   ],
   "source": [
    "for word in words:\n",
    "    print(word + '----->' + s_stemmer.stem(word))"
   ]
  },
  {
   "cell_type": "markdown",
   "id": "ea71174f",
   "metadata": {},
   "source": [
    "___\n",
    "# Lemmatization\n",
    "\n",
    "In contrast to stemming, lemmatization looks beyond word reduction, and considers a language's full vocabulary to apply a morphological analysis to words. The lemma of \"was\" is \"be\" and the lemma of \"mice\" is \"mouse\". Futher, the lemma of \"meeting\" might be \"meet\" or \"meeting\" depending on its use in a sentence.\n",
    "\n",
    "Lemmatization is typically seen as much more informative than simple stemming, which is why spaCy has opted to only have Lemmatization available instead of Stemming. Lemmatization looks at surrounding text to determine a given word's part of speech, it doesn't categorize phrases. "
   ]
  },
  {
   "cell_type": "code",
   "execution_count": 1,
   "id": "a6f1d4f3",
   "metadata": {},
   "outputs": [],
   "source": [
    "import spacy"
   ]
  },
  {
   "cell_type": "code",
   "execution_count": 2,
   "id": "4fec1b07",
   "metadata": {},
   "outputs": [],
   "source": [
    "nlp = spacy.load('en_core_web_sm')"
   ]
  },
  {
   "cell_type": "markdown",
   "id": "9c4ffb9c",
   "metadata": {},
   "source": [
    "Let's create a doc object which is consist of different forms of `run` which is `running`, `run` and `ran`."
   ]
  },
  {
   "cell_type": "code",
   "execution_count": 3,
   "id": "449526bd",
   "metadata": {},
   "outputs": [],
   "source": [
    "doc1 = nlp(u\"I am a runner running in a race because I love to run since I ran today\")"
   ]
  },
  {
   "cell_type": "markdown",
   "id": "7445d24f",
   "metadata": {},
   "source": [
    "Here we will see original word as a token, the part of speech, number which points to a specific lemma inside the library (hash), `lemma_` is an actual lemma."
   ]
  },
  {
   "cell_type": "code",
   "execution_count": 6,
   "id": "c4af5921",
   "metadata": {},
   "outputs": [
    {
     "name": "stdout",
     "output_type": "stream",
     "text": [
      "I \t PRON \t 561228191312463089 \t -PRON-\n",
      "am \t VERB \t 10382539506755952630 \t be\n",
      "a \t DET \t 11901859001352538922 \t a\n",
      "runner \t NOUN \t 12640964157389618806 \t runner\n",
      "running \t VERB \t 12767647472892411841 \t run\n",
      "in \t ADP \t 3002984154512732771 \t in\n",
      "a \t DET \t 11901859001352538922 \t a\n",
      "race \t NOUN \t 8048469955494714898 \t race\n",
      "because \t ADP \t 16950148841647037698 \t because\n",
      "I \t PRON \t 561228191312463089 \t -PRON-\n",
      "love \t VERB \t 3702023516439754181 \t love\n",
      "to \t PART \t 3791531372978436496 \t to\n",
      "run \t VERB \t 12767647472892411841 \t run\n",
      "since \t ADP \t 10066841407251338481 \t since\n",
      "I \t PRON \t 561228191312463089 \t -PRON-\n",
      "ran \t VERB \t 12767647472892411841 \t run\n",
      "today \t NOUN \t 11042482332948150395 \t today\n"
     ]
    }
   ],
   "source": [
    "for token in doc1:\n",
    "    print(token.text, '\\t', token.pos_, '\\t', token.lemma, '\\t', token.lemma_)"
   ]
  },
  {
   "cell_type": "markdown",
   "id": "fee33024",
   "metadata": {},
   "source": [
    "So for **`run`** and all forms of this words we see the same hash code which refers to the same lemma."
   ]
  },
  {
   "cell_type": "markdown",
   "id": "b367d1a2",
   "metadata": {},
   "source": [
    "Let's use a function for better displaying of this information since because of the word length and hash codes it looks a bit off."
   ]
  },
  {
   "cell_type": "code",
   "execution_count": 14,
   "id": "e4a8329c",
   "metadata": {},
   "outputs": [],
   "source": [
    "def show_lemmas(text):\n",
    "    for token in text:\n",
    "        print(f\"{token.text:{12}} {token.pos_:{6}} {token.lemma:<{22}} {token.lemma_}\")"
   ]
  },
  {
   "cell_type": "code",
   "execution_count": 15,
   "id": "f7028a1b",
   "metadata": {},
   "outputs": [],
   "source": [
    "doc2 = nlp(u\"I saw ten mice today!\")"
   ]
  },
  {
   "cell_type": "code",
   "execution_count": 16,
   "id": "983b62ba",
   "metadata": {},
   "outputs": [
    {
     "name": "stdout",
     "output_type": "stream",
     "text": [
      "I            PRON   561228191312463089     -PRON-\n",
      "saw          VERB   11925638236994514241   see\n",
      "ten          NUM    7970704286052693043    ten\n",
      "mice         NOUN   1384165645700560590    mouse\n",
      "today        NOUN   11042482332948150395   today\n",
      "!            PUNCT  17494803046312582752   !\n"
     ]
    }
   ],
   "source": [
    "show_lemmas(doc2)"
   ]
  },
  {
   "cell_type": "markdown",
   "id": "b1dcc110",
   "metadata": {},
   "source": [
    "___\n",
    "# Stop words\n",
    "\n",
    "Words like \"a\" and \"the\" appear so frequently that they don't require tagging as thoroughly as nouns, verbs and modifiers. We call these stop words, and they can be filtered from the text to be processed. SpaCy holds a built-in list of some 305 English stop words."
   ]
  },
  {
   "cell_type": "code",
   "execution_count": 17,
   "id": "f251e4fc",
   "metadata": {},
   "outputs": [],
   "source": [
    "import spacy"
   ]
  },
  {
   "cell_type": "code",
   "execution_count": 18,
   "id": "a08a186a",
   "metadata": {},
   "outputs": [],
   "source": [
    "nlp = spacy.load('en_core_web_sm')"
   ]
  },
  {
   "cell_type": "markdown",
   "id": "8f55b826",
   "metadata": {},
   "source": [
    "Here's the set of all stop words that built into spaCy"
   ]
  },
  {
   "cell_type": "code",
   "execution_count": 19,
   "id": "d6670ed9",
   "metadata": {},
   "outputs": [
    {
     "name": "stdout",
     "output_type": "stream",
     "text": [
      "{'i', 'on', 'and', 'not', 'becomes', 'everywhere', 'thence', 'move', 'my', 'whatever', 'its', 'more', 'off', 'into', 'thereafter', 'them', 'now', 'does', 'yours', 'under', 'twenty', 'nevertheless', 'besides', 'mine', 'take', 'give', 'whereby', 'afterwards', 'keep', 'something', 'among', 'whom', 'five', 'out', 'bottom', 'top', 'hers', 'thru', 'yourself', 'few', 'is', 'serious', 'eight', 'two', 'we', 'see', 'are', 'while', 'it', 'elsewhere', 'across', 'formerly', 'anyway', 'might', 'here', 'before', 'behind', 'name', 'others', 'hereby', 'part', 'seemed', 'seems', 'for', 'sometimes', 'anyone', 'beyond', 'there', 'those', 'when', 'whither', 'by', 'sixty', 'without', 'unless', 'has', 'thereby', 'whoever', 'hence', 'along', 'why', 'except', 'still', 'anyhow', 'indeed', 'everything', 'own', 'around', 'how', 'perhaps', 'beforehand', 'however', 'last', 'via', 'rather', 'whose', 'wherever', 'such', 'make', 'some', 'although', 'noone', 'would', 'yourselves', 'at', 'below', 'up', 'first', 'only', 'either', 'almost', 'toward', 'any', 'but', 'where', 'ca', 'our', 'whole', 'done', 'somehow', 'forty', 'her', 'may', 'meanwhile', 'can', 'in', 'becoming', 'once', 'someone', 'or', 'very', 'then', 'over', 'a', 'against', 'an', 'fifty', 'used', 'myself', 'put', 'their', 'alone', 'the', 'many', 'must', 'yet', 'become', 'also', 'became', 'anything', 'to', 'show', 'back', 'amongst', 'as', 'itself', 'one', 'anywhere', 'themselves', 'four', 'further', 'other', 'that', 'nine', 'thus', 'of', 'go', 'sometime', 'due', 'say', 'so', 'had', 'his', 'he', 'latter', 'him', 'should', 'upon', 'if', 'using', 'empty', 'this', 'being', 'less', 'nowhere', 'never', 'several', 'least', 'no', 'every', 'fifteen', 'between', 'neither', 'side', 'quite', 'ten', 'therein', 'cannot', 'mostly', 'towards', 'hereafter', 'be', 'too', 'seem', 'just', 'nor', 'your', 'above', 'everyone', 'am', 'well', 'none', 'ourselves', 'twelve', 'which', 'will', 'latterly', 'full', 'about', 'together', 'could', 'whence', 'himself', 'whether', 'really', 'thereupon', 'please', 'these', 'beside', 'get', 'somewhere', 'though', 'even', 'whereafter', 'ours', 'after', 'else', 'per', 'who', 'throughout', 'amount', 'us', 'do', 'again', 'because', 'ever', 'nothing', 'moreover', 'six', 'they', 'did', 'what', 'third', 'doing', 'than', 'down', 'was', 'another', 'front', 'me', 'have', 'herein', 'through', 'enough', 'otherwise', 'regarding', 'former', 'during', 'nobody', 'been', 'were', 'whenever', 'all', 'often', 'therefore', 'same', 'seeming', 'you', 'call', 'already', 'hundred', 'within', 'onto', 'until', 'wherein', 'both', 'whereupon', 'three', 'since', 'made', 'much', 'most', 're', 'from', 'herself', 'always', 'namely', 'with', 'eleven', 'next', 'various', 'each', 'hereupon', 'whereas', 'she'}\n"
     ]
    }
   ],
   "source": [
    "print(nlp.Defaults.stop_words)"
   ]
  },
  {
   "cell_type": "code",
   "execution_count": 20,
   "id": "dd9d804a",
   "metadata": {},
   "outputs": [
    {
     "data": {
      "text/plain": [
       "305"
      ]
     },
     "execution_count": 20,
     "metadata": {},
     "output_type": "execute_result"
    }
   ],
   "source": [
    "len(nlp.Defaults.stop_words)"
   ]
  },
  {
   "cell_type": "markdown",
   "id": "42dbbe15",
   "metadata": {},
   "source": [
    "We can check if the word is a stop word by simply calling NLP vocab."
   ]
  },
  {
   "cell_type": "code",
   "execution_count": 22,
   "id": "1d850724",
   "metadata": {},
   "outputs": [
    {
     "data": {
      "text/plain": [
       "True"
      ]
     },
     "execution_count": 22,
     "metadata": {},
     "output_type": "execute_result"
    }
   ],
   "source": [
    "nlp.vocab['is'].is_stop"
   ]
  },
  {
   "cell_type": "code",
   "execution_count": 23,
   "id": "8078c812",
   "metadata": {},
   "outputs": [
    {
     "data": {
      "text/plain": [
       "False"
      ]
     },
     "execution_count": 23,
     "metadata": {},
     "output_type": "execute_result"
    }
   ],
   "source": [
    "nlp.vocab['mystery'].is_stop"
   ]
  },
  {
   "cell_type": "markdown",
   "id": "1aae6f4a",
   "metadata": {},
   "source": [
    "Let's imagine we're dealing with unique dataset where acronym \"btw\" is used a lot and we want to add that to stop words."
   ]
  },
  {
   "cell_type": "code",
   "execution_count": 24,
   "id": "34d15767",
   "metadata": {},
   "outputs": [],
   "source": [
    "nlp.Defaults.stop_words.add('btw')"
   ]
  },
  {
   "cell_type": "code",
   "execution_count": 26,
   "id": "f709ff99",
   "metadata": {},
   "outputs": [],
   "source": [
    "nlp.vocab['btw'].is_stop = True"
   ]
  },
  {
   "cell_type": "markdown",
   "id": "28872220",
   "metadata": {},
   "source": [
    "Sop we see that length of `nlp.Defaults.stop_words` is increased by 1 and how it is 306."
   ]
  },
  {
   "cell_type": "code",
   "execution_count": 27,
   "id": "c1fc541d",
   "metadata": {},
   "outputs": [
    {
     "data": {
      "text/plain": [
       "306"
      ]
     },
     "execution_count": 27,
     "metadata": {},
     "output_type": "execute_result"
    }
   ],
   "source": [
    "len(nlp.Defaults.stop_words)"
   ]
  },
  {
   "cell_type": "code",
   "execution_count": 28,
   "id": "a2d4ca7a",
   "metadata": {},
   "outputs": [
    {
     "data": {
      "text/plain": [
       "True"
      ]
     },
     "execution_count": 28,
     "metadata": {},
     "output_type": "execute_result"
    }
   ],
   "source": [
    "nlp.vocab['btw'].is_stop"
   ]
  },
  {
   "cell_type": "markdown",
   "id": "4c47e173",
   "metadata": {},
   "source": [
    "If there's a situation where you need ot remove a stop word. For instance there's a word that you want to accout for example \"via\", \"four\" or \"beyond\"."
   ]
  },
  {
   "cell_type": "code",
   "execution_count": 29,
   "id": "3f450f8f",
   "metadata": {},
   "outputs": [],
   "source": [
    "nlp.Defaults.stop_words.remove('beyond')"
   ]
  },
  {
   "cell_type": "code",
   "execution_count": 30,
   "id": "e8266064",
   "metadata": {},
   "outputs": [],
   "source": [
    "nlp.vocab['beyond'].is_stop = False"
   ]
  },
  {
   "cell_type": "code",
   "execution_count": 31,
   "id": "7a1fec40",
   "metadata": {},
   "outputs": [
    {
     "data": {
      "text/plain": [
       "False"
      ]
     },
     "execution_count": 31,
     "metadata": {},
     "output_type": "execute_result"
    }
   ],
   "source": [
    "nlp.vocab['beyond'].is_stop"
   ]
  },
  {
   "cell_type": "markdown",
   "id": "c3e6ac30",
   "metadata": {},
   "source": [
    "___\n",
    "# Vocabulary and Matching\n",
    "\n",
    "So far we've seen how a body of text is divided into tokens, and how individual tokens are parsed and tagged with parts of speech, dependencies and lemmas. In this part we will identify and label specific phrases that match patterns we can define ourselves.\n",
    "\n",
    "We can think of this as a powerful version of Regular Expression where we acutally take parts of speech into account for our pattern search."
   ]
  },
  {
   "cell_type": "code",
   "execution_count": 32,
   "id": "ebd0db86",
   "metadata": {},
   "outputs": [],
   "source": [
    "import spacy"
   ]
  },
  {
   "cell_type": "code",
   "execution_count": 33,
   "id": "6b1ea0b8",
   "metadata": {},
   "outputs": [],
   "source": [
    "nlp = spacy.load('en_core_web_sm')"
   ]
  },
  {
   "cell_type": "markdown",
   "id": "afd76dc4",
   "metadata": {},
   "source": [
    "Rule Based Matching: spaCy offgers a rule matching tool called `Matcher` it allows to bui9ld a library of token patterns then match those patterns against a `doc` object to returna a list of found matches. A very similar idea to regular expressions but we can think of this as a kind of more powerful version of that. And it is possible to match on any part of token, including text and annotations. We can add multiple patterns to the same matcher."
   ]
  },
  {
   "cell_type": "code",
   "execution_count": 54,
   "id": "f4188a0d",
   "metadata": {},
   "outputs": [],
   "source": [
    "from spacy.matcher import Matcher"
   ]
  },
  {
   "cell_type": "markdown",
   "id": "b294f89d",
   "metadata": {},
   "source": [
    "Here the `matcher` is an object that pairs to the current vocab object."
   ]
  },
  {
   "cell_type": "code",
   "execution_count": 55,
   "id": "886333f9",
   "metadata": {},
   "outputs": [],
   "source": [
    "matcher = Matcher(nlp.vocab)"
   ]
  },
  {
   "cell_type": "markdown",
   "id": "8a4d9551",
   "metadata": {},
   "source": [
    "The way it works is that you have a list and you add dictionaries to this list."
   ]
  },
  {
   "cell_type": "code",
   "execution_count": 56,
   "id": "01fcf907",
   "metadata": {},
   "outputs": [],
   "source": [
    "# SolarPower\n",
    "\n",
    "pattern1 = [{'LOWER':'solarpower'}]\n",
    "\n",
    "# Solar-power\n",
    "pattern2 = [{'LOWER':'solar'}, {'IS_PUNCT':True}, {'LOWER': 'power'}]\n",
    "\n",
    "# Solar power\n",
    "pattern3 = [{'LOWER':'solar'}, {'LOWER': 'power'}]"
   ]
  },
  {
   "cell_type": "code",
   "execution_count": 57,
   "id": "40827d04",
   "metadata": {},
   "outputs": [],
   "source": [
    "matcher.add('SolarPower', None, pattern1, pattern2, pattern3)"
   ]
  },
  {
   "cell_type": "code",
   "execution_count": 58,
   "id": "917acfd4",
   "metadata": {},
   "outputs": [],
   "source": [
    "doc = nlp(u\"The Solar Power industry continues to grow a solarpower increases. Solar-Power is amazing.\")"
   ]
  },
  {
   "cell_type": "markdown",
   "id": "19fe12b9",
   "metadata": {},
   "source": [
    "And to find matches we simply take the matcher as pass in a document object"
   ]
  },
  {
   "cell_type": "code",
   "execution_count": 59,
   "id": "52b86445",
   "metadata": {},
   "outputs": [],
   "source": [
    "found_matches = matcher(doc)"
   ]
  },
  {
   "cell_type": "markdown",
   "id": "8ce2ee54",
   "metadata": {},
   "source": [
    "This will return tuple with 3 pieces of information. $1st$ is the string id for a particular match and then it indicates a start and a stop."
   ]
  },
  {
   "cell_type": "code",
   "execution_count": 60,
   "id": "ab48bd60",
   "metadata": {},
   "outputs": [
    {
     "name": "stdout",
     "output_type": "stream",
     "text": [
      "[(8656102463236116519, 1, 3), (8656102463236116519, 8, 9), (8656102463236116519, 11, 14)]\n"
     ]
    }
   ],
   "source": [
    "print(found_matches)"
   ]
  },
  {
   "cell_type": "code",
   "execution_count": 61,
   "id": "d8f8d0c1",
   "metadata": {},
   "outputs": [
    {
     "name": "stdout",
     "output_type": "stream",
     "text": [
      "8656102463236116519 SolarPower 1 3 Solar Power\n",
      "8656102463236116519 SolarPower 8 9 solarpower\n",
      "8656102463236116519 SolarPower 11 14 Solar-Power\n"
     ]
    }
   ],
   "source": [
    "for match_id, start, end in found_matches:\n",
    "    string_id = nlp.vocab.strings[match_id]  # get striong representation\n",
    "    span = doc[start:end]                   # get the matched span\n",
    "    print(match_id, string_id, start, end, span.text)"
   ]
  },
  {
   "cell_type": "markdown",
   "id": "a424c1d1",
   "metadata": {},
   "source": [
    "It is also possible to remove unwanted patterns."
   ]
  },
  {
   "cell_type": "code",
   "execution_count": 45,
   "id": "342062a5",
   "metadata": {},
   "outputs": [],
   "source": [
    "matcher.remove('SolarPower')"
   ]
  },
  {
   "cell_type": "markdown",
   "id": "c3efbdca",
   "metadata": {},
   "source": [
    "The following quantifiers can be passed to the `'OP'` key:\n",
    "<table><tr><th>OP</th><th>Description</th></tr>\n",
    "\n",
    "<tr ><td><span >\\!</span></td><td>Negate the pattern, by requiring it to match exactly 0 times</td></tr>\n",
    "<tr ><td><span >?</span></td><td>Make the pattern optional, by allowing it to match 0 or 1 times</td></tr>\n",
    "<tr ><td><span >\\+</span></td><td>Require the pattern to match 1 or more times</td></tr>\n",
    "<tr ><td><span >\\*</span></td><td>Allow the pattern to match zero or more times</td></tr>\n",
    "</table>"
   ]
  },
  {
   "cell_type": "code",
   "execution_count": 48,
   "id": "7b671457",
   "metadata": {},
   "outputs": [],
   "source": [
    "# solarpoer or SolarPower\n",
    "pattern1 = [{'LOWER':'solarpower'}]\n",
    "\n",
    "# solar* (for ex. solar--, solar__... power)\n",
    "pattern2 = [{'LOWER':'solar'}, {'IS_PUNCT':True, 'OP':'*'}, {'LOWER':'power'}]"
   ]
  },
  {
   "cell_type": "code",
   "execution_count": 49,
   "id": "11c5e07a",
   "metadata": {},
   "outputs": [],
   "source": [
    "matcher.add('SolarPower', None, pattern1, pattern2)"
   ]
  },
  {
   "cell_type": "code",
   "execution_count": 50,
   "id": "286acb9b",
   "metadata": {},
   "outputs": [],
   "source": [
    "doc2 = nlp(u\"Solar--power is solarpower yay!\")"
   ]
  },
  {
   "cell_type": "code",
   "execution_count": 51,
   "id": "9960f5bd",
   "metadata": {},
   "outputs": [],
   "source": [
    "found_matches = matcher(doc2)"
   ]
  },
  {
   "cell_type": "code",
   "execution_count": 53,
   "id": "eb8fff0a",
   "metadata": {},
   "outputs": [
    {
     "name": "stdout",
     "output_type": "stream",
     "text": [
      "8656102463236116519 SolarPower 0 3 Solar--power\n",
      "8656102463236116519 SolarPower 4 5 solarpower\n"
     ]
    }
   ],
   "source": [
    "for match_id, start, end in found_matches:\n",
    "    string_id = nlp.vocab.strings[match_id]  # get striong representation\n",
    "    span = doc2[start:end]                   # get the matched span\n",
    "    print(match_id, string_id, start, end, span.text)"
   ]
  },
  {
   "cell_type": "markdown",
   "id": "7cdc71ce",
   "metadata": {},
   "source": [
    "___"
   ]
  },
  {
   "cell_type": "markdown",
   "id": "0abace9c",
   "metadata": {},
   "source": [
    "In alternative and often more efficient method is to actually match on terminology list."
   ]
  },
  {
   "cell_type": "code",
   "execution_count": 62,
   "id": "1fbd11fc",
   "metadata": {},
   "outputs": [],
   "source": [
    "from spacy.matcher import PhraseMatcher"
   ]
  },
  {
   "cell_type": "code",
   "execution_count": 63,
   "id": "8da3c4d4",
   "metadata": {},
   "outputs": [],
   "source": [
    "matcher = PhraseMatcher(nlp.vocab)"
   ]
  },
  {
   "cell_type": "code",
   "execution_count": 64,
   "id": "07e29227",
   "metadata": {},
   "outputs": [],
   "source": [
    "with open('reaganomics.txt') as f:\n",
    "    doc3 = nlp(f.read())"
   ]
  },
  {
   "cell_type": "code",
   "execution_count": 65,
   "id": "a0cedc82",
   "metadata": {},
   "outputs": [],
   "source": [
    "phrase_lis = ['voodo economics', 'supply-side economics', 'trickle-down economics', 'free-market economics']"
   ]
  },
  {
   "cell_type": "code",
   "execution_count": 66,
   "id": "856c185c",
   "metadata": {},
   "outputs": [],
   "source": [
    "phrase_patters = [nlp(text) for text in phrase_lis]"
   ]
  },
  {
   "cell_type": "code",
   "execution_count": 67,
   "id": "a23cdbad",
   "metadata": {},
   "outputs": [
    {
     "name": "stdout",
     "output_type": "stream",
     "text": [
      "[voodo economics, supply-side economics, trickle-down economics, free-market economics]\n"
     ]
    }
   ],
   "source": [
    "print(phrase_patters)"
   ]
  },
  {
   "cell_type": "code",
   "execution_count": 68,
   "id": "9c67fbc4",
   "metadata": {},
   "outputs": [
    {
     "data": {
      "text/plain": [
       "spacy.tokens.doc.Doc"
      ]
     },
     "execution_count": 68,
     "metadata": {},
     "output_type": "execute_result"
    }
   ],
   "source": [
    "type(phrase_patters[0])"
   ]
  },
  {
   "cell_type": "code",
   "execution_count": 69,
   "id": "abb7a4d4",
   "metadata": {},
   "outputs": [],
   "source": [
    "matcher.add('EconMatcher', None, *phrase_patters)"
   ]
  },
  {
   "cell_type": "code",
   "execution_count": 70,
   "id": "d0b2b207",
   "metadata": {},
   "outputs": [],
   "source": [
    "found_matches = matcher(doc3)"
   ]
  },
  {
   "cell_type": "code",
   "execution_count": 71,
   "id": "38861a11",
   "metadata": {},
   "outputs": [
    {
     "data": {
      "text/plain": [
       "[(3680293220734633682, 41, 45),\n",
       " (3680293220734633682, 49, 53),\n",
       " (3680293220734633682, 61, 65),\n",
       " (3680293220734633682, 673, 677),\n",
       " (3680293220734633682, 2985, 2989)]"
      ]
     },
     "execution_count": 71,
     "metadata": {},
     "output_type": "execute_result"
    }
   ],
   "source": [
    "found_matches"
   ]
  },
  {
   "cell_type": "code",
   "execution_count": 72,
   "id": "04ebb7f2",
   "metadata": {},
   "outputs": [
    {
     "name": "stdout",
     "output_type": "stream",
     "text": [
      "3680293220734633682 EconMatcher 41 45 supply-side economics\n",
      "3680293220734633682 EconMatcher 49 53 trickle-down economics\n",
      "3680293220734633682 EconMatcher 61 65 free-market economics\n",
      "3680293220734633682 EconMatcher 673 677 supply-side economics\n",
      "3680293220734633682 EconMatcher 2985 2989 trickle-down economics\n"
     ]
    }
   ],
   "source": [
    "for match_id, start, end in found_matches:\n",
    "    string_id = nlp.vocab.strings[match_id]  # get striong representation\n",
    "    span = doc3[start:end]                   # get the matched span\n",
    "    print(match_id, string_id, start, end, span.text)"
   ]
  },
  {
   "cell_type": "code",
   "execution_count": 73,
   "id": "682cbbf1",
   "metadata": {},
   "outputs": [
    {
     "name": "stdout",
     "output_type": "stream",
     "text": [
      "3680293220734633682 EconMatcher 41 45 policies are commonly associated with supply-side economics, referred to as trickle\n",
      "3680293220734633682 EconMatcher 49 53 economics, referred to as trickle-down economics or voodoo economics by political\n",
      "3680293220734633682 EconMatcher 61 65 by political opponents, and free-market economics by political advocates.\n",
      "\n",
      "\n",
      "3680293220734633682 EconMatcher 673 677 attracted a following from the supply-side economics movement, which formed in\n",
      "3680293220734633682 EconMatcher 2985 2989 became widely known as \"trickle-down economics\", due to the\n"
     ]
    }
   ],
   "source": [
    "for match_id, start, end in found_matches:\n",
    "    string_id = nlp.vocab.strings[match_id]  # get striong representation\n",
    "    span = doc3[start-5:end+5]                   # get the matched span\n",
    "    print(match_id, string_id, start, end, span.text)"
   ]
  },
  {
   "cell_type": "code",
   "execution_count": null,
   "id": "a92f6002",
   "metadata": {},
   "outputs": [],
   "source": []
  }
 ],
 "metadata": {
  "kernelspec": {
   "display_name": "Python 3 (ipykernel)",
   "language": "python",
   "name": "python3"
  },
  "language_info": {
   "codemirror_mode": {
    "name": "ipython",
    "version": 3
   },
   "file_extension": ".py",
   "mimetype": "text/x-python",
   "name": "python",
   "nbconvert_exporter": "python",
   "pygments_lexer": "ipython3",
   "version": "3.7.16"
  }
 },
 "nbformat": 4,
 "nbformat_minor": 5
}
